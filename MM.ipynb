{
 "cells": [
  {
   "cell_type": "code",
   "execution_count": 1,
   "metadata": {
    "collapsed": false
   },
   "outputs": [
    {
     "name": "stdout",
     "output_type": "stream",
     "text": [
      "Once deleted, variables cannot be recovered. Proceed (y/[n])? y\n"
     ]
    }
   ],
   "source": [
    "%matplotlib inline\n",
    "%reset\n",
    "\n",
    "import matplotlib\n",
    "import numpy as np\n",
    "import matplotlib.pyplot as plt\n",
    "\n",
    "import pandas as pd\n",
    "from py2neo import Graph,authenticate,Relationship,Node\n",
    "import networkx as nx\n",
    "import community\n",
    "import numpy as np\n",
    "from itertools import groupby\n",
    "from sklearn.feature_extraction.text import TfidfVectorizer\n",
    "from nltk.corpus import stopwords\n",
    "from nltk.stem import WordNetLemmatizer\n",
    "from PyDictionary import PyDictionary\n",
    "from collections import Counter\n",
    "from datetime import datetime\n",
    "import json\n",
    "import pickle\n",
    "\n",
    "import ijson\n",
    "\n",
    "import sqlite3\n",
    "\n",
    "\n",
    "\n",
    "folder=''\n"
   ]
  },
  {
   "cell_type": "code",
   "execution_count": 2,
   "metadata": {
    "collapsed": true
   },
   "outputs": [],
   "source": [
    "data='../repos/'"
   ]
  },
  {
   "cell_type": "markdown",
   "metadata": {
    "collapsed": false
   },
   "source": [
    "Load the dictionaries\n",
    "------------------------\n",
    "*d.pkl is the dict of all users\n",
    "\n",
    "*dUK.pkl is the dictionary of users in the UK\n",
    "\n",
    "This includes the following fields:\n",
    "\n",
    "*Gender\n",
    "\n",
    "*Age\n",
    "\n",
    "*Ethnicity\n",
    "\n",
    "*Long Description\n",
    "\n",
    "*Status Message\n",
    "\n",
    "*Number of Likes\n"
   ]
  },
  {
   "cell_type": "code",
   "execution_count": 3,
   "metadata": {
    "collapsed": false
   },
   "outputs": [],
   "source": [
    "d=pickle.load(open(data+'d.pkl','rb'))\n",
    "dUK=pickle.load(open(data+'dUK.pkl','rb'))"
   ]
  },
  {
   "cell_type": "markdown",
   "metadata": {
    "collapsed": false
   },
   "source": [
    "Gender Stats\n",
    "--------------"
   ]
  },
  {
   "cell_type": "code",
   "execution_count": null,
   "metadata": {
    "collapsed": false
   },
   "outputs": [],
   "source": [
    "plt.xkcd()\n",
    "df.gender.value_counts().plot(kind='bar')\n",
    "df.gender.value_counts()['M']/df.gender.value_counts()['F']"
   ]
  },
  {
   "cell_type": "code",
   "execution_count": null,
   "metadata": {
    "collapsed": false
   },
   "outputs": [],
   "source": [
    "plt.xkcd()\n",
    "dfUK.gender.value_counts().plot(kind='bar')\n",
    "dfUK.gender.value_counts()['M']/dfUK.gender.value_counts()['F']"
   ]
  },
  {
   "cell_type": "code",
   "execution_count": null,
   "metadata": {
    "collapsed": true
   },
   "outputs": [],
   "source": []
  },
  {
   "cell_type": "markdown",
   "metadata": {},
   "source": [
    "Ethnicity Stats\n",
    "---------------"
   ]
  },
  {
   "cell_type": "code",
   "execution_count": null,
   "metadata": {
    "collapsed": false
   },
   "outputs": [],
   "source": [
    "df.ethnic.value_counts()\n",
    "dfUK.ethnic.value_counts()\n"
   ]
  },
  {
   "cell_type": "code",
   "execution_count": null,
   "metadata": {
    "collapsed": false
   },
   "outputs": [],
   "source": [
    "dth=pd.DataFrame(df.groupby(['ethnic','gender']).size())\n",
    "dthUK=pd.DataFrame(dfUK.groupby(['ethnic','gender']).size())\n"
   ]
  },
  {
   "cell_type": "code",
   "execution_count": null,
   "metadata": {
    "collapsed": false
   },
   "outputs": [],
   "source": [
    "plt.xkcd()\n",
    "df.ethnic.value_counts().plot(kind='pie',figsize=(6, 6))"
   ]
  },
  {
   "cell_type": "code",
   "execution_count": null,
   "metadata": {
    "collapsed": false
   },
   "outputs": [],
   "source": [
    "plt.xkcd()\n",
    "dfUK.ethnic.value_counts().plot(kind='pie',figsize=(6, 6))"
   ]
  },
  {
   "cell_type": "markdown",
   "metadata": {
    "collapsed": false
   },
   "source": [
    "Age Stats\n",
    "---------"
   ]
  },
  {
   "cell_type": "code",
   "execution_count": null,
   "metadata": {
    "collapsed": false
   },
   "outputs": [],
   "source": [
    "plt.xkcd()\n",
    "df.age.hist(bins=[20,23,26,29, 32,35,38,41,45]).figure"
   ]
  },
  {
   "cell_type": "code",
   "execution_count": null,
   "metadata": {
    "collapsed": false
   },
   "outputs": [],
   "source": [
    "plt.xkcd()\n",
    "dfUK.age.hist(bins=[20,23,26,29, 32,35,38,41,45]).figure"
   ]
  },
  {
   "cell_type": "code",
   "execution_count": null,
   "metadata": {
    "collapsed": false
   },
   "outputs": [],
   "source": [
    "plt.xkcd()\n",
    "\n",
    "countsM,bins=np.histogram(df[df.gender=='M'].age,bins=[20,25,30,35,40,45,50,55,60,65,70])\n",
    "countsF,bins=np.histogram(df[df.gender=='F'].age)\n",
    "\n",
    "fig=plt.figure()\n",
    "ax=fig.add_subplot(111)\n",
    "\n",
    "ax.bar(bins[:-1],countsM/max(countsM),width=3)\n",
    "ax.bar(bins[:-1]+6,countsF/max(countsF),color='r',width=3)\n",
    "plt.xlabel('age')\n",
    "plt.ylabel('normalised frequency')"
   ]
  },
  {
   "cell_type": "code",
   "execution_count": null,
   "metadata": {
    "collapsed": false
   },
   "outputs": [],
   "source": []
  },
  {
   "cell_type": "code",
   "execution_count": null,
   "metadata": {
    "collapsed": false
   },
   "outputs": [],
   "source": []
  },
  {
   "cell_type": "code",
   "execution_count": null,
   "metadata": {
    "collapsed": false
   },
   "outputs": [],
   "source": [
    "plt.xkcd()\n",
    "\n",
    "countsM,bins=np.histogram(dfUK[dfUK.gender=='M'].age)\n",
    "countsF,bins=np.histogram(dfUK[dfUK.gender=='F'].age)\n",
    "\n",
    "fig=plt.figure()\n",
    "ax=fig.add_subplot(111)\n",
    "\n",
    "ax.bar(bins[:-1],countsM/max(countsM))\n",
    "ax.bar(bins[:-1]+1,countsF/max(countsF),color='r')\n",
    "plt.xlabel('age')\n",
    "plt.ylabel('normalised frequency')"
   ]
  },
  {
   "cell_type": "markdown",
   "metadata": {
    "collapsed": false
   },
   "source": [
    "Swipe Stats\n",
    "-------------"
   ]
  },
  {
   "cell_type": "code",
   "execution_count": null,
   "metadata": {
    "collapsed": false
   },
   "outputs": [],
   "source": []
  },
  {
   "cell_type": "code",
   "execution_count": null,
   "metadata": {
    "collapsed": false
   },
   "outputs": [],
   "source": []
  },
  {
   "cell_type": "code",
   "execution_count": 176,
   "metadata": {
    "collapsed": false
   },
   "outputs": [],
   "source": [
    "dlikesM=pickle.load(open(data+'dlikesM.pkl','rb'))\n",
    "dlikesF=pickle.load(open(data+'dlikesF.pkl','rb'))\n"
   ]
  },
  {
   "cell_type": "code",
   "execution_count": null,
   "metadata": {
    "collapsed": true
   },
   "outputs": [],
   "source": []
  },
  {
   "cell_type": "code",
   "execution_count": null,
   "metadata": {
    "collapsed": false
   },
   "outputs": [],
   "source": [
    "plt.xkcd()\n",
    "countsM,bins=np.histogram(np.log10(list(dlikesM.values())),bins=5)\n",
    "countsF,binsF=np.histogram(np.log10(list(dlikesF.values())),bins=bins)\n",
    "\n",
    "fig=plt.figure()\n",
    "ax=fig.add_subplot(111)\n",
    "ax.bar(bins[:-1],countsM,width=0.5)\n",
    "ax.bar(bins[:-1],countsF,color='r',width=0.5)\n",
    "plt.xlabel('Logarithmic number of likes (base 10)')\n",
    "plt.ylabel('counts')"
   ]
  },
  {
   "cell_type": "code",
   "execution_count": null,
   "metadata": {
    "collapsed": false
   },
   "outputs": [],
   "source": []
  },
  {
   "cell_type": "code",
   "execution_count": null,
   "metadata": {
    "collapsed": false
   },
   "outputs": [],
   "source": []
  },
  {
   "cell_type": "code",
   "execution_count": null,
   "metadata": {
    "collapsed": false
   },
   "outputs": [],
   "source": []
  },
  {
   "cell_type": "markdown",
   "metadata": {},
   "source": []
  },
  {
   "cell_type": "code",
   "execution_count": null,
   "metadata": {
    "collapsed": false
   },
   "outputs": [],
   "source": [
    "print('max Men likes %s\\n'%max(dlikesM.values()))\n",
    "print('max Women likes %s\\n'%max(dlikesF.values()))\n",
    "\n",
    "print('min Men likes %s\\n'%min(dlikesM.values()))\n",
    "print('min Women likes %s\\n'%min(dlikesF.values()))\n",
    "\n",
    "print('mean Men likes %s\\n'%np.mean(list(dlikesM.values())))\n",
    "print('mean Women likes %s\\n'%np.mean(list(dlikesF.values())))"
   ]
  },
  {
   "cell_type": "code",
   "execution_count": null,
   "metadata": {
    "collapsed": true
   },
   "outputs": [],
   "source": [
    "today='2017-04-01'\n"
   ]
  },
  {
   "cell_type": "code",
   "execution_count": null,
   "metadata": {
    "collapsed": false
   },
   "outputs": [],
   "source": [
    "#this function adds number of swipes to each user\n",
    "trim=db.trim\n",
    "dlikesMUK={}\n",
    "dlikesFUK={}\n",
    "for key in dUK.keys():\n",
    "    t=trim.find({'memberID':key},{\"who_i_liked\":1})\n",
    "    a=trim.find({'memberID':key},{\"activeSince\":1})\n",
    "    try:\n",
    "        dUK[key]['activeSince']= a[0]['activeSince']\n",
    "    except:\n",
    "        continue\n",
    "            \n",
    "    for tt in t:\n",
    "        if 'who_i_liked' in tt.keys():\n",
    "            likes=len(tt['who_i_liked' ])\n",
    "            if d[key]['gender']=='M':\n",
    "                dlikesMUK[key]=likes\n",
    "            else:\n",
    "                dlikesFUK[key]=likes\n",
    "                    \n"
   ]
  },
  {
   "cell_type": "code",
   "execution_count": null,
   "metadata": {
    "collapsed": false
   },
   "outputs": [],
   "source": []
  },
  {
   "cell_type": "code",
   "execution_count": null,
   "metadata": {
    "collapsed": false
   },
   "outputs": [],
   "source": []
  },
  {
   "cell_type": "code",
   "execution_count": null,
   "metadata": {
    "collapsed": true
   },
   "outputs": [],
   "source": [
    "pickle.dump(dlikesMUK,open(data+'dlikesMUK.pkl','wb'))\n",
    "pickle.dump(dlikesFUK,open(data+'dlikesFUK.pkl','wb'))"
   ]
  },
  {
   "cell_type": "code",
   "execution_count": null,
   "metadata": {
    "collapsed": false
   },
   "outputs": [],
   "source": [
    "plt.xkcd()\n",
    "countsM,bins=np.histogram(np.log10(list(dlikesMUK.values())),bins=5)\n",
    "countsF,binsF=np.histogram(np.log10(list(dlikesFUK.values())),bins=bins)\n",
    "\n",
    "fig=plt.figure()\n",
    "ax=fig.add_subplot(111)\n",
    "ax.bar(bins[:-1],countsM,width=0.5)\n",
    "ax.bar(bins[:-1],countsF,color='r',width=0.25)\n",
    "plt.xlabel('Logarithmic number of likes (base 10)')\n",
    "plt.ylabel('counts')"
   ]
  },
  {
   "cell_type": "code",
   "execution_count": null,
   "metadata": {
    "collapsed": false
   },
   "outputs": [],
   "source": [
    "print('max Men likes %s\\n'%max(dlikesMUK.values()))\n",
    "print('max Women likes %s\\n'%max(dlikesFUK.values()))\n",
    "\n",
    "print('min Men likes %s\\n'%min(dlikesMUK.values()))\n",
    "print('min Women likes %s\\n'%min(dlikesFUK.values()))\n",
    "\n",
    "print('mean Men likes %s\\n'%np.mean(list(dlikesMUK.values())))\n",
    "print('mean Women likes %s\\n'%np.mean(list(dlikesFUK.values())))"
   ]
  },
  {
   "cell_type": "code",
   "execution_count": null,
   "metadata": {
    "collapsed": false
   },
   "outputs": [],
   "source": []
  },
  {
   "cell_type": "code",
   "execution_count": null,
   "metadata": {
    "collapsed": false
   },
   "outputs": [],
   "source": [
    "def get_age_age(d,dictM,dictF):\n",
    "    for key in d.keys():\n",
    "        t=trim.find({'memberID':key},{'who_i_liked':1})\n",
    "        for tt in t:\n",
    "            if d[key]['gender']=='M':\n",
    "                l=[]\n",
    "                if 'who_i_liked' in tt.keys():\n",
    "                    for mid in tt['who_i_liked']:\n",
    "                        if mid in d.keys(): #filtered out nonUK people and international lurve is a thing\n",
    "                            l.append(d[mid]['age'])\n",
    "                dictM[d[key]['age']]=l\n",
    "\n",
    "            if d[key]['gender']=='F':\n",
    "                if 'who_i_liked' in tt.keys():\n",
    "                    l=[]\n",
    "                    for mid in tt['who_i_liked']:\n",
    "                        if mid in d.keys():\n",
    "                            l.append(d[mid]['age'])\n",
    "                dictF[d[key]['age']]=l\n",
    "    return dictM,dictF"
   ]
  },
  {
   "cell_type": "code",
   "execution_count": null,
   "metadata": {
    "collapsed": false
   },
   "outputs": [],
   "source": [
    "#age vs age swipes for men and women\n",
    "agesM={}\n",
    "agesF={}\n",
    "agesM,agesF=get_age_age(d,agesM,agesF)\n",
    "\n"
   ]
  },
  {
   "cell_type": "code",
   "execution_count": null,
   "metadata": {
    "collapsed": true
   },
   "outputs": [],
   "source": [
    "pickle.dump(agesM,open(data+'agesM.pkl','wb'))\n",
    "pickle.dump(agesF,open(data+'agesF.pkl','wb'))"
   ]
  },
  {
   "cell_type": "code",
   "execution_count": null,
   "metadata": {
    "collapsed": true
   },
   "outputs": [],
   "source": [
    "agesM=pickle.load(open(data+'agesM.pkl','rb'))\n",
    "agesF=pickle.load(open(data+'agesF.pkl','rb'))"
   ]
  },
  {
   "cell_type": "code",
   "execution_count": null,
   "metadata": {
    "collapsed": false
   },
   "outputs": [],
   "source": [
    "agesMUK={}\n",
    "agesFUK={}\n",
    "agesMUK,agesFUK=get_age_age(dUK,agesMUK,agesFUK)"
   ]
  },
  {
   "cell_type": "code",
   "execution_count": null,
   "metadata": {
    "collapsed": true
   },
   "outputs": [],
   "source": [
    "pickle.dump(agesMUK,open(data+'agesMUK.pkl','wb'))\n",
    "pickle.dump(agesFUK,open(data+'agesFUK.pkl','wb'))"
   ]
  },
  {
   "cell_type": "code",
   "execution_count": null,
   "metadata": {
    "collapsed": false
   },
   "outputs": [],
   "source": [
    "def get_trends(d,dict1):\n",
    "    for age in dict1.keys():\n",
    "        ageMean=np.mean(dict1[age])\n",
    "        ageSdev=np.std(dict1[age])\n",
    "        z=Counter()\n",
    "        for a in dict1[age]:\n",
    "            z[a]+=1\n",
    "        d[age]={}\n",
    "        d[age]['stats']=(ageMean,ageSdev)\n",
    "        d[age]['counts']=z\n",
    "    return d"
   ]
  },
  {
   "cell_type": "code",
   "execution_count": null,
   "metadata": {
    "collapsed": true
   },
   "outputs": [],
   "source": [
    "agesMUK=pickle.load(open(data+'agesMUK.pkl','rb'))\n",
    "agesFUK=pickle.load(open(data+'agesFUK.pkl','rb'))"
   ]
  },
  {
   "cell_type": "code",
   "execution_count": null,
   "metadata": {
    "collapsed": false
   },
   "outputs": [],
   "source": [
    "agesTrendF={}\n",
    "agesTrendF=get_trends(agesTrendF,agesF)\n",
    "agesTrendM={}\n",
    "agesTrendM=get_trends(agesTrendM,agesM)\n",
    "\n",
    "agesTrendFUK={}\n",
    "agesTrendFUK=get_trends(agesTrendFUK,agesFUK)\n",
    "agesTrendMUK={}\n",
    "agesTrendMUK=get_trends(agesTrendMUK,agesMUK)\n",
    "\n",
    "    "
   ]
  },
  {
   "cell_type": "code",
   "execution_count": null,
   "metadata": {
    "collapsed": true
   },
   "outputs": [],
   "source": [
    "pickle.dump(agesTrendM,open(data+'agesTrendM.pkl','wb'))\n",
    "pickle.dump(agesTrendF,open(data+'agesFTrend.pkl','wb'))\n",
    "\n",
    "pickle.dump(agesTrendMUK,open(data+'agesTrendMUK.pkl','wb'))\n",
    "pickle.dump(agesTrendFUK,open(data+'agesFTrendUK.pkl','wb'))"
   ]
  },
  {
   "cell_type": "code",
   "execution_count": null,
   "metadata": {
    "collapsed": true
   },
   "outputs": [],
   "source": [
    "def plt_scatter(d):\n",
    "    plt.xkcd()\n",
    "    for age in d.keys():\n",
    "        if age>0 and age<60:\n",
    "            y=list(d[age]['counts'].keys())\n",
    "            y=[yy for yy in y if yy>0 and yy<60]\n",
    "            s=list(d[age]['counts'].values())\n",
    "            plt.scatter([age]*len(y),y,s=s)\n",
    "        \n",
    "def plt_trend(d):\n",
    "    x=[]\n",
    "    m=[]\n",
    "    mp=[]\n",
    "    mm=[]\n",
    "\n",
    "    for age in d.keys():\n",
    "        if age>20 and age<60:\n",
    "            x.append(age)\n",
    "            m.append(d[age]['stats'][0])\n",
    "            mp.append(d[age]['stats'][0]+d[age]['stats'][1])\n",
    "            mm.append(d[age]['stats'][0]-d[age]['stats'][1])\n",
    "    s,b = np.polyfit(x, m, 1)\n",
    "    plt.plot(x,[s*float(c)+b for c in x],'r')\n",
    "    s,b = np.polyfit(x, mp, 1)\n",
    "    plt.plot(x,[s*float(c)+b for c in x],'r--')\n",
    "    s,b = np.polyfit(x, mm, 1)\n",
    "    plt.plot(x,[s*float(c)+b for c in x],'r--')\n",
    "\n",
    "    print('slope is %s with an intercept of %s'%(s,b))"
   ]
  },
  {
   "cell_type": "code",
   "execution_count": null,
   "metadata": {
    "collapsed": false
   },
   "outputs": [],
   "source": []
  },
  {
   "cell_type": "code",
   "execution_count": null,
   "metadata": {
    "collapsed": false
   },
   "outputs": [],
   "source": [
    "plt_scatter(agesTrendF)\n",
    "plt_trend(agesTrendF)\n",
    "plt.xlabel('Female Age')\n",
    "plt.ylabel('Male Age')\n",
    "plt.axis([20,60,20,60])\n",
    "\n",
    "\n"
   ]
  },
  {
   "cell_type": "code",
   "execution_count": null,
   "metadata": {
    "collapsed": false
   },
   "outputs": [],
   "source": [
    "plt_scatter(agesTrendM)\n",
    "plt_trend(agesTrendM)\n",
    "plt.ylabel('Female Age')\n",
    "plt.xlabel('Male Age')\n",
    "plt.axis([20,60,20,60])\n",
    "\n",
    "\n",
    "\n",
    "    "
   ]
  },
  {
   "cell_type": "code",
   "execution_count": null,
   "metadata": {
    "collapsed": false
   },
   "outputs": [],
   "source": [
    "plt_scatter(agesTrendMUK)\n",
    "plt_trend(agesTrendMUK)\n",
    "plt.ylabel('Female Age')\n",
    "plt.xlabel('Male Age')\n",
    "plt.axis([20,60,20,60])\n"
   ]
  },
  {
   "cell_type": "code",
   "execution_count": null,
   "metadata": {
    "collapsed": false
   },
   "outputs": [],
   "source": [
    "plt_scatter(agesTrendFUK)\n",
    "plt_trend(agesTrendFUK)\n",
    "plt.xlabel('Female Age')\n",
    "plt.ylabel('Male Age')\n",
    "plt.axis([20,60,20,60])\n",
    "\n"
   ]
  },
  {
   "cell_type": "code",
   "execution_count": null,
   "metadata": {
    "collapsed": false
   },
   "outputs": [],
   "source": [
    "d2=pickle.load(open(data+'d2.pkl','rb'))\n",
    "bad_keys=[]\n",
    "for key in d2.keys():\n",
    "    if d2[key]['activeSince']==0:\n",
    "        bad_keys.append(key)"
   ]
  },
  {
   "cell_type": "code",
   "execution_count": null,
   "metadata": {
    "collapsed": false
   },
   "outputs": [],
   "source": [
    "trim=db.trim\n",
    "for key in bad_keys:\n",
    "    t=trim.find({'memberID':key},{\"activeSince\":1})\n",
    "    try:\n",
    "        d2[key]['activeSince']=t[0]['activeSince']\n",
    "    except:\n",
    "        d2[key]['activeSince']=0\n",
    "    \n",
    "    "
   ]
  },
  {
   "cell_type": "code",
   "execution_count": null,
   "metadata": {
    "collapsed": false
   },
   "outputs": [],
   "source": [
    "bad_keys=[]\n",
    "for key in d2.keys():\n",
    "    if d2[key]['activeSince']==0:\n",
    "        bad_keys.append(key)\n",
    "        \n",
    "len(bad_keys)"
   ]
  },
  {
   "cell_type": "code",
   "execution_count": null,
   "metadata": {
    "collapsed": false
   },
   "outputs": [],
   "source": []
  },
  {
   "cell_type": "code",
   "execution_count": 73,
   "metadata": {
    "collapsed": false
   },
   "outputs": [],
   "source": [
    "today=datetime.strptime('2017-04-28','%Y-%m-%d')\n",
    "dUK2={}\n",
    "for key in dUK.keys():\n",
    "    if key in dUK.keys() and 'activeSince' in dUK[key].keys():\n",
    "        a=dUK[key]['activeSince']\n",
    "        if a==0:\n",
    "            a=today\n",
    "        else:\n",
    "            a=datetime.strptime(a,'%Y-%m-%d')\n",
    "        a=(today-a).days\n",
    "        if a==0:\n",
    "            a=0\n",
    "        dUK2[key]=dUK[key]\n",
    "        dUK2[key]['daysActive']=a"
   ]
  },
  {
   "cell_type": "code",
   "execution_count": 74,
   "metadata": {
    "collapsed": true
   },
   "outputs": [],
   "source": [
    "dUK=dUK2"
   ]
  },
  {
   "cell_type": "code",
   "execution_count": 75,
   "metadata": {
    "collapsed": false
   },
   "outputs": [],
   "source": [
    "pickle.dump(dUK2,open(data+'dUK2.pkl','wb'))"
   ]
  },
  {
   "cell_type": "code",
   "execution_count": 7,
   "metadata": {
    "collapsed": true
   },
   "outputs": [],
   "source": [
    "dUK=pickle.load(open(data+'dUK2.pkl','rb'))"
   ]
  },
  {
   "cell_type": "markdown",
   "metadata": {},
   "source": [
    "Likes Vs. RealLikes\n",
    "----------------------"
   ]
  },
  {
   "cell_type": "code",
   "execution_count": 38,
   "metadata": {
    "collapsed": true
   },
   "outputs": [],
   "source": [
    "dreal=pickle.load(open(data+'dreal.pkl','rb'))"
   ]
  },
  {
   "cell_type": "code",
   "execution_count": 44,
   "metadata": {
    "collapsed": false
   },
   "outputs": [],
   "source": [
    "c,b=np.histogram(pUK['realLen'][pUK.gender=='F'],bins=50)\n",
    "cm,bm=np.histogram(pUK['realLen'][pUK.gender=='M'],bins=b)\n",
    "cl,bl=np.histogram(pUK['numLikes'][pUK.gender=='F'],bins=b)\n",
    "clm,blm=np.histogram(pUK['numLikes'][pUK.gender=='M'],bins=b)"
   ]
  },
  {
   "cell_type": "code",
   "execution_count": null,
   "metadata": {
    "collapsed": false
   },
   "outputs": [],
   "source": []
  },
  {
   "cell_type": "code",
   "execution_count": 45,
   "metadata": {
    "collapsed": false
   },
   "outputs": [
    {
     "name": "stderr",
     "output_type": "stream",
     "text": [
      "/usr/local/lib/python3.5/dist-packages/ipykernel/__main__.py:2: RuntimeWarning: divide by zero encountered in log10\n",
      "  from ipykernel import kernelapp as app\n",
      "/usr/local/lib/python3.5/dist-packages/ipykernel/__main__.py:3: RuntimeWarning: divide by zero encountered in log10\n",
      "  app.launch_new_instance()\n"
     ]
    },
    {
     "data": {
      "text/plain": [
       "<matplotlib.text.Text at 0x7f19a4e479e8>"
      ]
     },
     "execution_count": 45,
     "metadata": {},
     "output_type": "execute_result"
    },
    {
     "name": "stderr",
     "output_type": "stream",
     "text": [
      "/usr/local/lib/python3.5/dist-packages/matplotlib/font_manager.py:1288: UserWarning: findfont: Font family ['Humor Sans', 'Comic Sans MS'] not found. Falling back to Bitstream Vera Sans\n",
      "  (prop.get_family(), self.defaultFamily[fontext]))\n"
     ]
    },
    {
     "data": {
      "image/png": "[encoded data removed]",
      "text/plain": [
       "<matplotlib.figure.Figure at 0x7f19a4e7ee48>"
      ]
     },
     "metadata": {},
     "output_type": "display_data"
    }
   ],
   "source": [
    "plt.xkcd()\n",
    "plt.plot(b[:-1],np.log10(c),'rx')\n",
    "plt.plot(b[:-1],np.log10(cl),'ro')\n",
    "plt.xlabel('likes')"
   ]
  },
  {
   "cell_type": "code",
   "execution_count": 46,
   "metadata": {
    "collapsed": false
   },
   "outputs": [
    {
     "name": "stderr",
     "output_type": "stream",
     "text": [
      "/usr/local/lib/python3.5/dist-packages/ipykernel/__main__.py:2: RuntimeWarning: divide by zero encountered in log10\n",
      "  from ipykernel import kernelapp as app\n"
     ]
    },
    {
     "data": {
      "text/plain": [
       "<matplotlib.text.Text at 0x7f19a4e4f5c0>"
      ]
     },
     "execution_count": 46,
     "metadata": {},
     "output_type": "execute_result"
    },
    {
     "name": "stderr",
     "output_type": "stream",
     "text": [
      "/usr/local/lib/python3.5/dist-packages/matplotlib/font_manager.py:1288: UserWarning: findfont: Font family ['Humor Sans', 'Comic Sans MS'] not found. Falling back to Bitstream Vera Sans\n",
      "  (prop.get_family(), self.defaultFamily[fontext]))\n"
     ]
    },
    {
     "data": {
      "image/png": "[encoded data removed]",
      "text/plain": [
       "<matplotlib.figure.Figure at 0x7f19a4e86cf8>"
      ]
     },
     "metadata": {},
     "output_type": "display_data"
    }
   ],
   "source": [
    "plt.xkcd()\n",
    "plt.plot(b[:-1],np.log10(cm),'x')\n",
    "plt.plot(b[:-1],np.log10(clm),'bo')\n",
    "plt.xlabel('likes')"
   ]
  },
  {
   "cell_type": "code",
   "execution_count": null,
   "metadata": {
    "collapsed": true
   },
   "outputs": [],
   "source": []
  },
  {
   "cell_type": "markdown",
   "metadata": {
    "collapsed": true
   },
   "source": [
    "Graph Stuff\n",
    "======\n",
    "Find out who passed me (this data is not in the JSON)\n",
    "\n",
    "Find communities within the data\n",
    "\n",
    "Do this all with networkx"
   ]
  },
  {
   "cell_type": "code",
   "execution_count": null,
   "metadata": {
    "collapsed": true
   },
   "outputs": [],
   "source": [
    "doc=csv.reader(open(data+'alikesb.csv','r')) #this is created in a seperate python module\n",
    "doc=csv.reader(open(data+'alikesb.csv','r'))\n",
    "G=nx.DiGraph() #a directed graph\n",
    "G.clear()\n",
    "for row in doc:\n",
    "    G.add_nodes_from(row)\n",
    "    G.add_edge(row[0],row[1])\n"
   ]
  },
  {
   "cell_type": "code",
   "execution_count": null,
   "metadata": {
    "collapsed": true
   },
   "outputs": [],
   "source": [
    "n=G.nodes()\n",
    "for key in dUK.keys():\n",
    "    if key in n:\n",
    "        pop=len(G.predecessors(key)) #find the nodes pointing to the key node\n",
    "        dUK[key]['pop']=pop"
   ]
  },
  {
   "cell_type": "code",
   "execution_count": null,
   "metadata": {
    "collapsed": true
   },
   "outputs": [],
   "source": [
    "max_likes=300 #filter out people who liked more than 300 otherwise, crash your laptop, see if I care"
   ]
  },
  {
   "cell_type": "code",
   "execution_count": null,
   "metadata": {
    "collapsed": true
   },
   "outputs": [],
   "source": [
    "doc=csv.reader(open(data+'apassedb.csv','r'))\n",
    "G2=nx.DiGraph()\n",
    "G2.clear()\n",
    "for row in doc:\n",
    "    numLikes=dUK[row[0]]['numLikes'] \n",
    "    if numLikes<max_likes:\n",
    "        G2.add_nodes_from(row)\n",
    "        G2.add_edge(row[0],row[1])\n"
   ]
  },
  {
   "cell_type": "code",
   "execution_count": null,
   "metadata": {
    "collapsed": true
   },
   "outputs": [],
   "source": [
    "n=G2.nodes()\n",
    "for key in dUK.keys():\n",
    "    if key in n:\n",
    "        pop=len(G2.predecessors(key))#find people that passed me\n",
    "        if 'pop' in dUK[key].keys():\n",
    "            dUK[key]['impression']=dUK[key]['pop']+pop"
   ]
  },
  {
   "cell_type": "code",
   "execution_count": null,
   "metadata": {
    "collapsed": true
   },
   "outputs": [],
   "source": [
    "doc=csv.reader(open(data+'alikesb.csv','r'))\n",
    "G=nx.Graph() #need to do this to do the community stuff\n",
    "G.clear()\n",
    "for row in doc:\n",
    "    if dUK[row[0]]['numLikes']<300:\n",
    "        G.add_nodes_from(row)\n",
    "        G.add_edge(row[0],row[1])\n"
   ]
  },
  {
   "cell_type": "code",
   "execution_count": null,
   "metadata": {
    "collapsed": true
   },
   "outputs": [],
   "source": [
    "#community partitions\n",
    "partitions1 = community.best_partition(G)"
   ]
  },
  {
   "cell_type": "code",
   "execution_count": null,
   "metadata": {
    "collapsed": true
   },
   "outputs": [],
   "source": [
    "partitions = [(k, v) for k, v in partitions1.items()]\n",
    "\n",
    "sorted_partitions = sorted(partitions, key=lambda tup: tup[1])\n",
    "communities = groupby(sorted_partitions, key=lambda tup: tup[1])\n",
    "\n",
    "mod = community.modularity(partitions1,G)\n"
   ]
  },
  {
   "cell_type": "code",
   "execution_count": null,
   "metadata": {
    "collapsed": false
   },
   "outputs": [],
   "source": [
    "comm={}\n",
    "for c, u in communities:\n",
    "    print(c)\n",
    "    u = list(u)\n",
    "    u = [y[0] for y in u]\n",
    "    comm[c] = u\n",
    "    print('Community %s has %s members\\n' % (c, len(u)))\n",
    "    #file.write('----------------------------\\n')\n",
    "\n",
    "    #for uu in u:\n",
    "     #   file.write('%s\\n' % ' '.join(uu.split('_')))\n",
    "\n",
    "    #file.write('-----------------------------\\n')"
   ]
  },
  {
   "cell_type": "code",
   "execution_count": null,
   "metadata": {
    "collapsed": true
   },
   "outputs": [],
   "source": [
    "#invert dictionary\n",
    "peeps={}\n",
    "for key in comm.keys():\n",
    "    people=comm[key]\n",
    "    for p in people:\n",
    "        peeps[p]=key"
   ]
  },
  {
   "cell_type": "code",
   "execution_count": null,
   "metadata": {
    "collapsed": true
   },
   "outputs": [],
   "source": [
    "comm_ethnic={}\n",
    "for key in comm.keys():\n",
    "    l=[]\n",
    "    for p in comm[key]:\n",
    "        eth=dUK[p]['ethnic']\n",
    "        l.append(eth)\n",
    "    comm_ethnic[key]=l\n",
    "\n",
    "comm_age={}\n",
    "\n",
    "for key in comm.keys():\n",
    "    l=[]\n",
    "    for p in comm[key]:\n",
    "        age=dUK[p]['age']\n",
    "        l.append(age)\n",
    "    comm_age[key]=(np.mean(l),np.sqrt(np.var(l)))"
   ]
  },
  {
   "cell_type": "code",
   "execution_count": null,
   "metadata": {
    "collapsed": true
   },
   "outputs": [],
   "source": [
    "comm_age_ethnic={}\n",
    "for key in comm.keys():\n",
    "    comm_age_ethnic[key]={}\n",
    "    for p in comm[key]:\n",
    "\n",
    "        typ=dUK[p]['ethnic']\n",
    "        if typ in comm_age_ethnic[key].keys():\n",
    "            age=dUK[p]['age']\n",
    "            l.append(age)\n",
    "        else:\n",
    "            age=dUK[p]['age']\n",
    "            l=[age]\n",
    "        comm_age_ethnic[key][typ]=l\n",
    "    for typ in comm_age_ethnic[key].keys():\n",
    "        comm_age_ethnic[key][typ]=(np.mean(comm_age_ethnic[key][typ]),np.sqrt(np.var(comm_age_ethnic[key][typ])))\n",
    "    comm_age_ethnic[key]['allStats']=comm_age[key]\n",
    "            "
   ]
  },
  {
   "cell_type": "code",
   "execution_count": null,
   "metadata": {
    "collapsed": true
   },
   "outputs": [],
   "source": [
    "comm_age_ethnic_gender={}\n",
    "for key in comm.keys():\n",
    "    comm_age_ethnic_gender[key]={}\n",
    "    for p in comm[key]:\n",
    "\n",
    "        typ=dUK[p]['ethnic']\n",
    "        g=dUK[p]['gender']\n",
    "        if g=='F':\n",
    "            if 'F' not in comm_age_ethnic_gender[key].keys():\n",
    "                comm_age_ethnic_gender[key]['F']={}\n",
    "            if typ in comm_age_ethnic_gender[key]['F'].keys():\n",
    "                age=dUK[p]['age']\n",
    "                l.append(age)\n",
    "            else:\n",
    "                age=dUK[p]['age']\n",
    "                l=[age]\n",
    "               \n",
    "                \n",
    "            comm_age_ethnic_gender[key]['F'][typ]=l\n",
    "        else:\n",
    "            if 'M' not in comm_age_ethnic_gender[key].keys():\n",
    "                \n",
    "                comm_age_ethnic_gender[key]['M']={}\n",
    "                \n",
    "            \n",
    "            \n",
    "            if typ in comm_age_ethnic_gender[key]['M'].keys():\n",
    "                age=dUK[p]['age']\n",
    "                l.append(age)\n",
    "            else:\n",
    "                age=dUK[p]['age']\n",
    "                l=[age]\n",
    "\n",
    "            comm_age_ethnic_gender[key]['M'][typ]=l \n",
    "\n",
    "                   \n",
    "    for gen in comm_age_ethnic_gender[key].keys():\n",
    "        for typ in comm_age_ethnic_gender[key][gen].keys():\n",
    "            l=[ll for ll in comm_age_ethnic_gender[key][gen][typ] if type(ll)==int]\n",
    "            comm_age_ethnic_gender[key][gen][typ]=(np.mean(l),np.sqrt(np.var(l)))\n",
    "        #comm_age_ethnic_gender[key][gen]['allStats']=comm_age[key][gen]\n",
    "          "
   ]
  },
  {
   "cell_type": "code",
   "execution_count": null,
   "metadata": {
    "collapsed": true
   },
   "outputs": [],
   "source": []
  },
  {
   "cell_type": "code",
   "execution_count": null,
   "metadata": {
    "collapsed": true
   },
   "outputs": [],
   "source": []
  },
  {
   "cell_type": "code",
   "execution_count": null,
   "metadata": {
    "collapsed": true
   },
   "outputs": [],
   "source": []
  },
  {
   "cell_type": "code",
   "execution_count": null,
   "metadata": {
    "collapsed": true
   },
   "outputs": [],
   "source": []
  },
  {
   "cell_type": "markdown",
   "metadata": {},
   "source": [
    "NLP Magic\n",
    "====="
   ]
  },
  {
   "cell_type": "code",
   "execution_count": 4,
   "metadata": {
    "collapsed": false
   },
   "outputs": [],
   "source": [
    "#pUK=pickle.load(open(data+'pUK.pkl','rb'))\n",
    "dUK=pickle.load(open(data+'dUK.pkl','rb'))\n",
    "pUK=pd.DataFrame.from_dict(dUK,orient='index')"
   ]
  },
  {
   "cell_type": "code",
   "execution_count": 5,
   "metadata": {
    "collapsed": false
   },
   "outputs": [
    {
     "data": {
      "text/plain": [
       "Index(['pop', 'age', 'impression', 'SM', 'activeSince', 'LD', 'country',\n",
       "       'gender', 'ethnic', 'numLikes'],\n",
       "      dtype='object')"
      ]
     },
     "execution_count": 5,
     "metadata": {},
     "output_type": "execute_result"
    }
   ],
   "source": [
    "pUK.columns"
   ]
  },
  {
   "cell_type": "code",
   "execution_count": 6,
   "metadata": {
    "collapsed": false
   },
   "outputs": [],
   "source": [
    "pUK=pUK[pUK.impression!=0]"
   ]
  },
  {
   "cell_type": "code",
   "execution_count": 7,
   "metadata": {
    "collapsed": false
   },
   "outputs": [],
   "source": [
    "pUK=pUK.dropna()"
   ]
  },
  {
   "cell_type": "code",
   "execution_count": null,
   "metadata": {
    "collapsed": false
   },
   "outputs": [],
   "source": []
  },
  {
   "cell_type": "code",
   "execution_count": 8,
   "metadata": {
    "collapsed": true
   },
   "outputs": [],
   "source": [
    "def get_len(sm):\n",
    "    if sm is not None:\n",
    "        return len(sm)\n",
    "    else:\n",
    "        return 0"
   ]
  },
  {
   "cell_type": "code",
   "execution_count": 9,
   "metadata": {
    "collapsed": false
   },
   "outputs": [],
   "source": [
    "pUK['SMlen']=pd.Series(np.random.randn(len(pUK)), index=pUK.index)\n",
    "pUK['SMlen']=pUK['SM'].apply(get_len)\n",
    "\n",
    "pUK['LDlen']=pd.Series(np.random.randn(len(pUK)), index=pUK.index)\n",
    "pUK['LDlen']=pUK['LD'].apply(get_len)"
   ]
  },
  {
   "cell_type": "code",
   "execution_count": 10,
   "metadata": {
    "collapsed": true
   },
   "outputs": [],
   "source": [
    "dreal=pickle.load(open(data+'dreal.pkl','rb'))"
   ]
  },
  {
   "cell_type": "code",
   "execution_count": null,
   "metadata": {
    "collapsed": false
   },
   "outputs": [],
   "source": []
  },
  {
   "cell_type": "code",
   "execution_count": 11,
   "metadata": {
    "collapsed": true
   },
   "outputs": [],
   "source": [
    "def get_reals(d):\n",
    "    return dreal[d]['realLikes']"
   ]
  },
  {
   "cell_type": "code",
   "execution_count": 12,
   "metadata": {
    "collapsed": false
   },
   "outputs": [],
   "source": [
    "pUK['real']=pd.Series(np.random.randn(len(pUK)), index=pUK.index)\n",
    "pUK['real']=pUK.index.map(get_reals)\n"
   ]
  },
  {
   "cell_type": "code",
   "execution_count": null,
   "metadata": {
    "collapsed": false
   },
   "outputs": [],
   "source": []
  },
  {
   "cell_type": "code",
   "execution_count": 13,
   "metadata": {
    "collapsed": true
   },
   "outputs": [],
   "source": [
    "def real_len(d):\n",
    "    if d==0:\n",
    "        return 0\n",
    "    else:\n",
    "        return len(d)"
   ]
  },
  {
   "cell_type": "code",
   "execution_count": 14,
   "metadata": {
    "collapsed": false
   },
   "outputs": [],
   "source": [
    "pUK['realLen']=pd.Series(np.random.randn(len(pUK)), index=pUK.index)\n",
    "pUK['realLen']=pUK['real'].apply(real_len)\n"
   ]
  },
  {
   "cell_type": "code",
   "execution_count": null,
   "metadata": {
    "collapsed": false
   },
   "outputs": [],
   "source": []
  },
  {
   "cell_type": "code",
   "execution_count": 16,
   "metadata": {
    "collapsed": false
   },
   "outputs": [
    {
     "name": "stderr",
     "output_type": "stream",
     "text": [
      "/usr/local/lib/python3.5/dist-packages/ipykernel/__main__.py:1: SettingWithCopyWarning: \n",
      "A value is trying to be set on a copy of a slice from a DataFrame\n",
      "\n",
      "See the caveats in the documentation: http://pandas.pydata.org/pandas-docs/stable/indexing.html#indexing-view-versus-copy\n",
      "  if __name__ == '__main__':\n"
     ]
    }
   ],
   "source": [
    "pUK['SM'][pUK['SM'].isnull()]='XXXXMONKEYSXXXX'"
   ]
  },
  {
   "cell_type": "code",
   "execution_count": 17,
   "metadata": {
    "collapsed": false
   },
   "outputs": [
    {
     "name": "stderr",
     "output_type": "stream",
     "text": [
      "/usr/local/lib/python3.5/dist-packages/ipykernel/__main__.py:1: SettingWithCopyWarning: \n",
      "A value is trying to be set on a copy of a slice from a DataFrame\n",
      "\n",
      "See the caveats in the documentation: http://pandas.pydata.org/pandas-docs/stable/indexing.html#indexing-view-versus-copy\n",
      "  if __name__ == '__main__':\n"
     ]
    }
   ],
   "source": [
    "pUK['LD'][pUK['LD'].isnull()]='XXXXMONKEYSXXXX'"
   ]
  },
  {
   "cell_type": "code",
   "execution_count": 19,
   "metadata": {
    "collapsed": false
   },
   "outputs": [],
   "source": [
    "tf = TfidfVectorizer(analyzer='word', min_df=0, stop_words='english',max_features=50)\n",
    "tfLD = TfidfVectorizer(analyzer='word', min_df=0, stop_words='english',max_features=100)\n",
    "\n",
    "\n",
    "\n",
    "tfidf_SMUK = tf.fit_transform(pUK['SM'])\n",
    "tfidf_LDUK = tfLD.fit_transform(pUK['LD'])"
   ]
  },
  {
   "cell_type": "code",
   "execution_count": null,
   "metadata": {
    "collapsed": false
   },
   "outputs": [],
   "source": []
  },
  {
   "cell_type": "code",
   "execution_count": 21,
   "metadata": {
    "collapsed": false
   },
   "outputs": [],
   "source": [
    "feature_names = tf.get_feature_names()\n",
    "\n",
    "i = 0\n",
    "top_words = {}\n",
    "max_words=1\n",
    "for row in tfidf_SMUK.todense():\n",
    "    task = row.tolist()[0]\n",
    "    top_words[i] = [feature_names[n] for n in list(range(0, len(task))) if task[n] != 0]\n",
    "\n",
    "    i += 1\n",
    "top_SM=top_words\n",
    "\n",
    "top_SMList=list(set([l for b in list(top_SM.values()) for l in b]))\n",
    "\n",
    "feature_names = tfLD.get_feature_names()\n",
    "\n",
    "\n",
    "i = 0\n",
    "top_words = {}\n",
    "max_words=10\n",
    "for row in tfidf_LDUK.todense():\n",
    "    task = row.tolist()[0]\n",
    "    top_words[i] = [feature_names[n] for n in list(range(0, len(task))) if task[n] != 0]\n",
    "\n",
    "    i += 1\n",
    "top_LD=top_words\n",
    "top_LDList=list(set([l for b in list(top_LD.values()) for l in b]))\n",
    "\n"
   ]
  },
  {
   "cell_type": "code",
   "execution_count": 22,
   "metadata": {
    "collapsed": false
   },
   "outputs": [],
   "source": [
    "top_SM=top_SMList\n",
    "top_LD=top_LDList"
   ]
  },
  {
   "cell_type": "code",
   "execution_count": 23,
   "metadata": {
    "collapsed": false
   },
   "outputs": [
    {
     "data": {
      "text/plain": [
       "<matplotlib.axes._subplots.AxesSubplot at 0x7f19b599df28>"
      ]
     },
     "execution_count": 23,
     "metadata": {},
     "output_type": "execute_result"
    },
    {
     "data": {
      "image/png": "[encoded data removed]",
      "text/plain": [
       "<matplotlib.figure.Figure at 0x7f19b59a8588>"
      ]
     },
     "metadata": {},
     "output_type": "display_data"
    }
   ],
   "source": [
    "pUK['realLen'][pUK.gender=='F'].value_counts().hist()"
   ]
  },
  {
   "cell_type": "code",
   "execution_count": 24,
   "metadata": {
    "collapsed": false
   },
   "outputs": [
    {
     "data": {
      "text/plain": [
       "<matplotlib.axes._subplots.AxesSubplot at 0x7f19c0cbde80>"
      ]
     },
     "execution_count": 24,
     "metadata": {},
     "output_type": "execute_result"
    },
    {
     "data": {
      "image/png": "[encoded data removed]",
      "text/plain": [
       "<matplotlib.figure.Figure at 0x7f19be275eb8>"
      ]
     },
     "metadata": {},
     "output_type": "display_data"
    }
   ],
   "source": [
    "pUK['realLen'][pUK.gender=='M'].value_counts().hist()"
   ]
  },
  {
   "cell_type": "code",
   "execution_count": null,
   "metadata": {
    "collapsed": true
   },
   "outputs": [],
   "source": []
  },
  {
   "cell_type": "code",
   "execution_count": null,
   "metadata": {
    "collapsed": false
   },
   "outputs": [],
   "source": []
  },
  {
   "cell_type": "code",
   "execution_count": null,
   "metadata": {
    "collapsed": false
   },
   "outputs": [],
   "source": []
  },
  {
   "cell_type": "code",
   "execution_count": 25,
   "metadata": {
    "collapsed": false
   },
   "outputs": [],
   "source": [
    "dlikesM=pickle.load(open(data+'dlikesM.pkl','rb'))\n",
    "dlikesF=pickle.load(open(data+'dlikesF.pkl','rb'))"
   ]
  },
  {
   "cell_type": "code",
   "execution_count": 26,
   "metadata": {
    "collapsed": false
   },
   "outputs": [],
   "source": [
    "dlikes={**dlikesM,**dlikesF}"
   ]
  },
  {
   "cell_type": "code",
   "execution_count": 27,
   "metadata": {
    "collapsed": false
   },
   "outputs": [],
   "source": [
    "pUK['likes']=pd.Series(np.random.randn(len(pUK)), index=pUK.index)"
   ]
  },
  {
   "cell_type": "code",
   "execution_count": 28,
   "metadata": {
    "collapsed": true
   },
   "outputs": [],
   "source": [
    "today=datetime.strptime('2017-04-28','%Y-%m-%d')\n",
    "\n",
    "def get_active_since(mid):\n",
    "    if 'activeSince' in dUK[mid].keys():\n",
    "        a=dUK[mid]['activeSince']\n",
    "        a=datetime.strptime(a,'%Y-%m-%d')\n",
    "        a=(today-a).days\n",
    "        return a\n",
    "    else:\n",
    "        return 0"
   ]
  },
  {
   "cell_type": "code",
   "execution_count": null,
   "metadata": {
    "collapsed": true
   },
   "outputs": [],
   "source": []
  },
  {
   "cell_type": "code",
   "execution_count": null,
   "metadata": {
    "collapsed": false
   },
   "outputs": [],
   "source": []
  },
  {
   "cell_type": "code",
   "execution_count": 30,
   "metadata": {
    "collapsed": false
   },
   "outputs": [],
   "source": [
    "pUK['activeSince']=pd.Series(np.random.randn(len(pUK)), index=pUK.index)\n",
    "pUK['activeSince']=pUK.index.map(get_active_since)"
   ]
  },
  {
   "cell_type": "code",
   "execution_count": null,
   "metadata": {
    "collapsed": false
   },
   "outputs": [],
   "source": []
  },
  {
   "cell_type": "code",
   "execution_count": 31,
   "metadata": {
    "collapsed": false
   },
   "outputs": [],
   "source": [
    "pUK=pUK[pUK['activeSince']!=0]"
   ]
  },
  {
   "cell_type": "code",
   "execution_count": null,
   "metadata": {
    "collapsed": false
   },
   "outputs": [],
   "source": []
  },
  {
   "cell_type": "code",
   "execution_count": null,
   "metadata": {
    "collapsed": false
   },
   "outputs": [],
   "source": []
  },
  {
   "cell_type": "code",
   "execution_count": 33,
   "metadata": {
    "collapsed": false
   },
   "outputs": [],
   "source": [
    "def add_likes(mid):\n",
    "    if mid in dlikes.keys():\n",
    "        return dlikes[mid]\n",
    "    else:\n",
    "        return 0"
   ]
  },
  {
   "cell_type": "code",
   "execution_count": 34,
   "metadata": {
    "collapsed": false
   },
   "outputs": [],
   "source": [
    "pUK['likes']=pUK.index.map(add_likes)"
   ]
  },
  {
   "cell_type": "code",
   "execution_count": 35,
   "metadata": {
    "collapsed": false
   },
   "outputs": [],
   "source": [
    "def filter_top(t):\n",
    "    words=[]\n",
    "    if t is not None and len(t)>0 :\n",
    "        tt=t.split(' ')\n",
    "\n",
    "       \n",
    "        for ttt in tt:\n",
    "            if ttt in top_SM:\n",
    "                words.append(ttt)\n",
    "        return words\n",
    "def filter_topLD(t):\n",
    "    words=[]\n",
    "    if t is not None and len(t)>0:\n",
    "        tt=t.split(' ')\n",
    "\n",
    "       \n",
    "        for ttt in tt:\n",
    "            if ttt in top_LD:\n",
    "                words.append(ttt)\n",
    "        return words"
   ]
  },
  {
   "cell_type": "code",
   "execution_count": 36,
   "metadata": {
    "collapsed": false
   },
   "outputs": [
    {
     "data": {
      "text/plain": [
       "<matplotlib.text.Text at 0x7f19b25999b0>"
      ]
     },
     "execution_count": 36,
     "metadata": {},
     "output_type": "execute_result"
    },
    {
     "data": {
      "image/png": "[encoded data removed]",
      "text/plain": [
       "<matplotlib.figure.Figure at 0x7f19b25a1e80>"
      ]
     },
     "metadata": {},
     "output_type": "display_data"
    }
   ],
   "source": [
    "c,b=np.histogram(pUK['activeSince'])\n",
    "plt.plot(b[:-1],c)\n",
    "plt.xlabel('Days Active')\n",
    "plt.ylabel('Counts')"
   ]
  },
  {
   "cell_type": "code",
   "execution_count": null,
   "metadata": {
    "collapsed": false
   },
   "outputs": [],
   "source": []
  },
  {
   "cell_type": "code",
   "execution_count": null,
   "metadata": {
    "collapsed": false
   },
   "outputs": [],
   "source": []
  },
  {
   "cell_type": "code",
   "execution_count": 37,
   "metadata": {
    "collapsed": false
   },
   "outputs": [
    {
     "data": {
      "text/plain": [
       "<matplotlib.text.Text at 0x7f19b254b4a8>"
      ]
     },
     "execution_count": 37,
     "metadata": {},
     "output_type": "execute_result"
    },
    {
     "data": {
      "image/png": "[encoded data removed]",
      "text/plain": [
       "<matplotlib.figure.Figure at 0x7f19b2560400>"
      ]
     },
     "metadata": {},
     "output_type": "display_data"
    }
   ],
   "source": [
    "c,p=np.histogram(pUK['likes'][(pUK['activeSince']<500)])\n",
    "plt.plot(b[:-1],c)\n",
    "plt.xlabel('Number of Likes')\n",
    "plt.ylabel('Counts')"
   ]
  },
  {
   "cell_type": "code",
   "execution_count": null,
   "metadata": {
    "collapsed": false
   },
   "outputs": [],
   "source": []
  },
  {
   "cell_type": "code",
   "execution_count": null,
   "metadata": {
    "collapsed": false
   },
   "outputs": [],
   "source": []
  },
  {
   "cell_type": "code",
   "execution_count": null,
   "metadata": {
    "collapsed": false
   },
   "outputs": [],
   "source": []
  },
  {
   "cell_type": "code",
   "execution_count": 38,
   "metadata": {
    "collapsed": false
   },
   "outputs": [],
   "source": [
    "pUK['SM']=pUK['SM'].apply(filter_top)\n",
    "pUK['LD']=pUK['LD'].apply(filter_topLD)"
   ]
  },
  {
   "cell_type": "code",
   "execution_count": null,
   "metadata": {
    "collapsed": false
   },
   "outputs": [],
   "source": []
  },
  {
   "cell_type": "code",
   "execution_count": null,
   "metadata": {
    "collapsed": false
   },
   "outputs": [],
   "source": []
  },
  {
   "cell_type": "code",
   "execution_count": null,
   "metadata": {
    "collapsed": false
   },
   "outputs": [],
   "source": []
  },
  {
   "cell_type": "code",
   "execution_count": null,
   "metadata": {
    "collapsed": false
   },
   "outputs": [],
   "source": []
  },
  {
   "cell_type": "code",
   "execution_count": 39,
   "metadata": {
    "collapsed": true
   },
   "outputs": [],
   "source": [
    "def get_pop(p):\n",
    "    if 'pop' in dUK[p].keys():\n",
    "        return dUK[p]['pop']\n",
    "    else:\n",
    "        return 0"
   ]
  },
  {
   "cell_type": "code",
   "execution_count": 40,
   "metadata": {
    "collapsed": false
   },
   "outputs": [],
   "source": [
    "pUK['pop']=pd.Series(np.random.randn(len(pUK)), index=pUK.index)\n",
    "pUK['pop']=pUK.index.map(get_pop)\n",
    "pUK['popNorm']=pUK['pop']/pUK['impression']*100 #replace with normalised impression stuff"
   ]
  },
  {
   "cell_type": "markdown",
   "metadata": {},
   "source": [
    "Back to the Community stuff\n",
    "==============="
   ]
  },
  {
   "cell_type": "code",
   "execution_count": null,
   "metadata": {
    "collapsed": false
   },
   "outputs": [],
   "source": [
    "comm_avg_pop={}\n",
    "\n",
    "for key in comm.keys():\n",
    "    typ=Counter()\n",
    "    comm_avg_pop[key]={}\n",
    "    for p in comm[key]:\n",
    "        if p in pUK.index:\n",
    "            popularity=pUK.ix[p]['popNorm']\n",
    "            age=dUK[p]['age']\n",
    "            eth=dUK[p]['ethnic']\n",
    "            g=dUK[p]['gender']\n",
    "            #sm=pUK.ix[p]['SM']\n",
    "            #ld=pUK.ix[p]['LD']\n",
    "            likes=pUK.ix[p]['likes']\n",
    "            ldLen=pUK.ix[p]['LDlen']\n",
    "            smLen=pUK.ix[p]['SMlen']\n",
    "            typ[eth]+=1\n",
    "            if g in comm_avg_pop[key].keys():\n",
    "                #comm_avg_pop[key][g]['SM'].append(sm)\n",
    "                #comm_avg_pop[key][g]['LD'].append(ld)\n",
    "                comm_avg_pop[key][g]['ldLen'].append(ldLen)\n",
    "                comm_avg_pop[key][g]['smLen'].append(smLen)\n",
    "                comm_avg_pop[key][g]['pop'].append(popularity)\n",
    "            else:\n",
    "                comm_avg_pop[key][g]={}\n",
    "                #comm_avg_pop[key][g]['SM']=[sm]\n",
    "                #comm_avg_pop[key][g]['LD']=[ld]\n",
    "                comm_avg_pop[key][g]['ldLen']=[ldLen]\n",
    "                comm_avg_pop[key][g]['smLen']=[smLen]\n",
    "                comm_avg_pop[key][g]['pop']=[popularity]\n",
    "                    \n",
    "            "
   ]
  },
  {
   "cell_type": "code",
   "execution_count": null,
   "metadata": {
    "collapsed": false
   },
   "outputs": [],
   "source": [
    "comm_avg_len_pop={}\n",
    "for c in comm_avg_pop.keys():\n",
    "    avgLDLenF=np.mean(comm_avg_pop[c]['F']['ldLen'])\n",
    "    avgsmLenF=np.mean(comm_avg_pop[c]['F']['smLen'])\n",
    "    avgPopF=np.mean(comm_avg_pop[c]['F']['pop'])\n",
    "    comm_avg_len_pop[c]={}\n",
    "    comm_avg_len_pop[c]['F']=[('ld',avgLDLenF),('sm',avgsmLenF),('pop',avgPopF)]\n",
    "    avgLDLenF=np.mean(comm_avg_pop[c]['M']['ldLen'])\n",
    "    avgsmLenF=np.mean(comm_avg_pop[c]['M']['smLen'])\n",
    "    avgPopF=np.mean(comm_avg_pop[c]['M']['pop'])\n",
    "    \n",
    "    comm_avg_len_pop[c]['M']=[('ld',avgLDLenF),('sm',avgsmLenF),('pop',avgPopF)]"
   ]
  },
  {
   "cell_type": "code",
   "execution_count": 41,
   "metadata": {
    "collapsed": false
   },
   "outputs": [],
   "source": [
    "full_comm={}\n",
    "\n",
    "full_comm['F']={}\n",
    "full_comm['M']={}\n",
    "for c in comm.keys():\n",
    "    print(c)\n",
    "    \n",
    "    \n",
    "    full_comm['F'][c]={}\n",
    "    full_comm['M'][c]={}\n",
    "    full_comm['M'][c]['age']=[]\n",
    "    full_comm['F'][c]['age']=[]\n",
    "    \n",
    "    for p in comm[c]:\n",
    "        full_comm[dUK[p]['gender']][c]['age'].append(dUK[p]['age'])\n",
    "    full_comm['M'][c]['age']=np.mean(full_comm['M'][c]['age'])\n",
    "    full_comm['F'][c]['age']=np.mean(full_comm['F'][c]['age'])\n",
    "    full_comm['F'][c]['sm']=comm_avg_len_pop[c]['F'][1][1]\n",
    "    full_comm['F'][c]['ld']=comm_avg_len_pop[c]['F'][0][1]\n",
    "    full_comm['F'][c]['pop']=comm_avg_len_pop[c]['F'][2][1]\n",
    "    full_comm['M'][c]['sm']=comm_avg_len_pop[c]['M'][1][1]\n",
    "    full_comm['M'][c]['ld']=comm_avg_len_pop[c]['M'][0][1]\n",
    "    full_comm['M'][c]['pop']=comm_avg_len_pop[c]['M'][2][1]\n",
    "    \n",
    "    \n",
    "        \n",
    "    "
   ]
  },
  {
   "cell_type": "code",
   "execution_count": null,
   "metadata": {
    "collapsed": true
   },
   "outputs": [],
   "source": [
    "pFULLF=pd.DataFrame.from_dict(full_comm['F'],orient='index')\n",
    "pFULLM=pd.DataFrame.from_dict(full_comm['M'],orient='index')"
   ]
  },
  {
   "cell_type": "code",
   "execution_count": null,
   "metadata": {
    "collapsed": true
   },
   "outputs": [],
   "source": [
    "#get women SM and LD for each community and then for the men\n",
    "SM={}\n",
    "for c in comm.keys():\n",
    "    for p in comm[c]:\n",
    "        if dUK[p]['gender']=='M':\n",
    "            if str(c)+'M' in SM.keys():\n",
    "                if dUK[p]['SM'] is not None:\n",
    "                    SM[str(c)+'M']=SM[str(c)+'M']+' '+dUK[p]['SM']\n",
    "            else:\n",
    "                if dUK[p]['SM'] is not None:\n",
    "                    SM[str(c)+'M']=dUK[p]['SM']\n",
    "        else:\n",
    "            if str(c)+'F' in SM.keys():\n",
    "                if dUK[p]['SM'] is not None:\n",
    "                    SM[str(c)+'F']=SM[str(c)+'F']+' '+dUK[p]['SM']\n",
    "            else:\n",
    "                if dUK[p]['SM'] is not None:\n",
    "                    SM[str(c)+'F']=dUK[p]['SM']"
   ]
  },
  {
   "cell_type": "code",
   "execution_count": null,
   "metadata": {
    "collapsed": true
   },
   "outputs": [],
   "source": [
    "#get women SM and LD for each community and then for the men\n",
    "LD={}\n",
    "for c in comm.keys():\n",
    "    for p in comm[c]:\n",
    "        if dUK[p]['gender']=='M':\n",
    "            if str(c)+'M' in LD.keys():\n",
    "                if dUK[p]['LD'] is not None:\n",
    "                    LD[str(c)+'M']=LD[str(c)+'M']+' '+dUK[p]['LD']\n",
    "            else:\n",
    "                if dUK[p]['LD'] is not None:\n",
    "                    LD[str(c)+'M']=dUK[p]['LD']\n",
    "        else:\n",
    "            if str(c)+'F' in LD.keys():\n",
    "                if dUK[p]['LD'] is not None:\n",
    "                    LD[str(c)+'F']=LD[str(c)+'F']+' '+dUK[p]['LD']\n",
    "            else:\n",
    "                if dUK[p]['LD'] is not None:\n",
    "                    LD[str(c)+'F']=dUK[p]['LD']"
   ]
  },
  {
   "cell_type": "code",
   "execution_count": null,
   "metadata": {
    "collapsed": true
   },
   "outputs": [],
   "source": [
    "df=pd.DataFrame.from_dict(SM,orient='index')\n",
    "dfLD=pd.DataFrame.from_dict(LD,orient='index')\n",
    "\n",
    "tfidf_SMUK = tf.fit_transform(df[0])\n",
    "tfidf_LDUK = tfLD.fit_transform(dfLD[0])\n",
    "\n",
    "feature_names = tf.get_feature_names()\n",
    "\n",
    "i = 0\n",
    "top_words = {}\n",
    "max_words=1\n",
    "for row in tfidf_SMUK.todense():\n",
    "    task = row.tolist()[0]\n",
    "    top_words[i] = [feature_names[n] for n in list(range(0, len(task))) if task[n] != 0]\n",
    "\n",
    "    i += 1\n",
    "top_SM=top_words\n",
    "\n",
    "top_SMList=list(set([l for b in list(top_SM.values()) for l in b]))\n",
    "\n",
    "\n",
    "feature_names = tfLD.get_feature_names()\n",
    "\n",
    "\n",
    "i = 0\n",
    "top_words = {}\n",
    "max_words=10\n",
    "for row in tfidf_LDUK.todense():\n",
    "    task = row.tolist()[0]\n",
    "    top_words[i] = [feature_names[n] for n in list(range(0, len(task))) if task[n] != 0]\n",
    "\n",
    "    i += 1\n",
    "top_LD=top_words\n",
    "top_LDList=list(set([l for b in list(top_LD.values()) for l in b]))\n",
    "\n",
    "top_SM=top_SMList\n",
    "top_LD=top_LDList"
   ]
  },
  {
   "cell_type": "code",
   "execution_count": null,
   "metadata": {
    "collapsed": true
   },
   "outputs": [],
   "source": []
  },
  {
   "cell_type": "code",
   "execution_count": null,
   "metadata": {
    "collapsed": true
   },
   "outputs": [],
   "source": []
  },
  {
   "cell_type": "code",
   "execution_count": null,
   "metadata": {
    "collapsed": true
   },
   "outputs": [],
   "source": []
  },
  {
   "cell_type": "code",
   "execution_count": null,
   "metadata": {
    "collapsed": true
   },
   "outputs": [],
   "source": []
  },
  {
   "cell_type": "code",
   "execution_count": null,
   "metadata": {
    "collapsed": true
   },
   "outputs": [],
   "source": []
  },
  {
   "cell_type": "code",
   "execution_count": 42,
   "metadata": {
    "collapsed": false
   },
   "outputs": [],
   "source": [
    "counts,bins=np.histogram(pUK['pop'],bins=[50,100,150,200,250,300,350,400,450,500,550])\n",
    "pcounts=counts/sum(counts)*100\n",
    "min_likes=100"
   ]
  },
  {
   "cell_type": "code",
   "execution_count": 309,
   "metadata": {
    "collapsed": false
   },
   "outputs": [
    {
     "data": {
      "text/plain": [
       "<matplotlib.text.Text at 0x7f752ffc6ba8>"
      ]
     },
     "execution_count": 309,
     "metadata": {},
     "output_type": "execute_result"
    },
    {
     "name": "stderr",
     "output_type": "stream",
     "text": [
      "/usr/local/lib/python3.5/dist-packages/matplotlib/font_manager.py:1288: UserWarning: findfont: Font family ['Humor Sans', 'Comic Sans MS'] not found. Falling back to Bitstream Vera Sans\n",
      "  (prop.get_family(), self.defaultFamily[fontext]))\n"
     ]
    },
    {
     "data": {
      "image/png": "[encoded data removed]",
      "text/plain": [
       "<matplotlib.figure.Figure at 0x7f7599f491d0>"
      ]
     },
     "metadata": {},
     "output_type": "display_data"
    }
   ],
   "source": [
    "plt.xkcd()\n",
    "countsPop,binsPopF=np.histogram(pUK['popNorm'][pUK.gender=='F'],bins=20)\n",
    "plt.bar(binsPopF[:-1],countsPop,color='r')\n",
    "countsPop,binsPop=np.histogram(pUK['popNorm'][pUK.gender=='M'],bins=binsPopF)\n",
    "plt.bar(binsPopF[:-1]+1,countsPop)\n",
    "plt.xlabel('Popularity Normalised By Impression')"
   ]
  },
  {
   "cell_type": "code",
   "execution_count": 324,
   "metadata": {
    "collapsed": false
   },
   "outputs": [
    {
     "name": "stdout",
     "output_type": "stream",
     "text": [
      "Average age of popular women is 30.4245283019 while the unpopular ones is 29.5113636364\n"
     ]
    }
   ],
   "source": [
    "#popular vs unpopular women\n",
    "print('Average age of popular women is %s while the unpopular ones is %s'%\n",
    "      (np.mean(pUK['age'][(pUK.gender=='F') & (pUK.popNorm>90)]),\n",
    "       np.mean(pUK['age'][(pUK.gender=='F') & (pUK.popNorm<60)])))"
   ]
  },
  {
   "cell_type": "code",
   "execution_count": 367,
   "metadata": {
    "collapsed": false
   },
   "outputs": [
    {
     "name": "stdout",
     "output_type": "stream",
     "text": [
      "Average age of popular men is 29.2580645161 while the unpopular ones is 29.4554171718\n"
     ]
    }
   ],
   "source": [
    "#popular vs unpopular women\n",
    "print('Average age of popular men is %s while the unpopular ones is %s'%\n",
    "      (np.mean(pUK['age'][(pUK.gender=='M') & (pUK.popNorm>90)]),\n",
    "       np.mean(pUK['age'][(pUK.gender=='M') & (pUK.popNorm<20)])))"
   ]
  },
  {
   "cell_type": "code",
   "execution_count": 369,
   "metadata": {
    "collapsed": false
   },
   "outputs": [
    {
     "name": "stdout",
     "output_type": "stream",
     "text": [
      "There are 19 ethnicities in the popular set and 9 in the unpopular set\n"
     ]
    }
   ],
   "source": [
    "print('There are %s ethnicities in the popular set and %s in the unpopular set'%\n",
    "     (len(set(pUK['ethnic'][(pUK.gender=='F') & (pUK.popNorm>90)])),\n",
    "     len(set(pUK['ethnic'][(pUK.gender=='F') & (pUK.popNorm<60)]))))"
   ]
  },
  {
   "cell_type": "code",
   "execution_count": 370,
   "metadata": {
    "collapsed": false
   },
   "outputs": [
    {
     "name": "stdout",
     "output_type": "stream",
     "text": [
      "There are 11 ethnicities in the popular set and 21 in the unpopular set\n"
     ]
    }
   ],
   "source": [
    "print('There are %s ethnicities in the popular set and %s in the unpopular set'%\n",
    "     (len(set(pUK['ethnic'][(pUK.gender=='M') & (pUK.popNorm>90)])),\n",
    "     len(set(pUK['ethnic'][(pUK.gender=='M') & (pUK.popNorm<20)]))))"
   ]
  },
  {
   "cell_type": "code",
   "execution_count": 371,
   "metadata": {
    "collapsed": false
   },
   "outputs": [
    {
     "data": {
      "text/plain": [
       "{'Afghan',\n",
       " 'African American',\n",
       " 'Caucasian/White',\n",
       " 'Far East Asian',\n",
       " 'Hispanic',\n",
       " 'Indonesian',\n",
       " 'Iraqi',\n",
       " 'Kurdish',\n",
       " 'Malaysian',\n",
       " 'Moroccan'}"
      ]
     },
     "execution_count": 371,
     "metadata": {},
     "output_type": "execute_result"
    }
   ],
   "source": [
    "set(pUK['ethnic'][(pUK.gender=='M') & (pUK.popNorm<20)]).difference(set(pUK['ethnic'][(pUK.gender=='M') & (pUK.popNorm>90)]))"
   ]
  },
  {
   "cell_type": "code",
   "execution_count": 372,
   "metadata": {
    "collapsed": false
   },
   "outputs": [
    {
     "name": "stdout",
     "output_type": "stream",
     "text": [
      "Popular women describe themselves in 545.423899371 words and unpopular ones in 621.215909091\n"
     ]
    }
   ],
   "source": [
    "print('Popular women describe themselves in %s words and unpopular ones in %s'%\n",
    "     (np.mean(pUK['LDlen'][(pUK.gender=='F') & (pUK.popNorm>90)]),\n",
    "     np.mean(pUK['LDlen'][(pUK.gender=='F') & (pUK.popNorm<60)])))"
   ]
  },
  {
   "cell_type": "code",
   "execution_count": 374,
   "metadata": {
    "collapsed": false
   },
   "outputs": [
    {
     "name": "stdout",
     "output_type": "stream",
     "text": [
      "Popular men describe themselves in 210.731182796 words and unpopular ones in 529.398214483\n"
     ]
    }
   ],
   "source": [
    "print('Popular men describe themselves in %s words and unpopular ones in %s'%\n",
    "     (np.mean(pUK['LDlen'][(pUK.gender=='M') & (pUK.popNorm>90)]),\n",
    "     np.mean(pUK['LDlen'][(pUK.gender=='M') & (pUK.popNorm<20)])))"
   ]
  },
  {
   "cell_type": "code",
   "execution_count": 328,
   "metadata": {
    "collapsed": false
   },
   "outputs": [
    {
     "name": "stdout",
     "output_type": "stream",
     "text": [
      "Popular women use 24.4452830189 in their status message while unpopular women use 23.6022727273\n"
     ]
    }
   ],
   "source": [
    "print('Popular women use %s in their status message while unpopular women use %s'%\n",
    "     (np.mean(pUK['SMlen'][(pUK.gender=='F') & (pUK.popNorm>90)]),\n",
    "     np.mean(pUK['SMlen'][(pUK.gender=='F') & (pUK.popNorm<60)])))"
   ]
  },
  {
   "cell_type": "code",
   "execution_count": 375,
   "metadata": {
    "collapsed": false
   },
   "outputs": [
    {
     "name": "stdout",
     "output_type": "stream",
     "text": [
      "Popular men use 20.3010752688 in their status message while unpopular men use 25.9976854403\n"
     ]
    }
   ],
   "source": [
    "print('Popular men use %s in their status message while unpopular men use %s'%\n",
    "     (np.mean(pUK['SMlen'][(pUK.gender=='M') & (pUK.popNorm>90)]),\n",
    "     np.mean(pUK['SMlen'][(pUK.gender=='M') & (pUK.popNorm<20)])))"
   ]
  },
  {
   "cell_type": "code",
   "execution_count": 329,
   "metadata": {
    "collapsed": false
   },
   "outputs": [
    {
     "name": "stdout",
     "output_type": "stream",
     "text": [
      "Popular women like 172.678616352 men while unpopular women like 353.545454545\n"
     ]
    }
   ],
   "source": [
    "print('Popular women like %s men while unpopular women like %s'%\n",
    "     (np.mean(pUK['numLikes'][(pUK.gender=='F') & (pUK.popNorm>90)]),\n",
    "     np.mean(pUK['numLikes'][(pUK.gender=='F') & (pUK.popNorm<60)])))"
   ]
  },
  {
   "cell_type": "code",
   "execution_count": 377,
   "metadata": {
    "collapsed": false
   },
   "outputs": [
    {
     "name": "stdout",
     "output_type": "stream",
     "text": [
      "Popular men like 56.1935483871 women while unpopular men like 1976.87754877\n"
     ]
    }
   ],
   "source": [
    "print('Popular men like %s women while unpopular men like %s'%\n",
    "     (np.mean(pUK['numLikes'][(pUK.gender=='M') & (pUK.popNorm>90)]),\n",
    "     np.mean(pUK['numLikes'][(pUK.gender=='M') & (pUK.popNorm<20)])))"
   ]
  },
  {
   "cell_type": "code",
   "execution_count": 335,
   "metadata": {
    "collapsed": false
   },
   "outputs": [],
   "source": [
    "pUK['LD']=pUK['LD'].map(' '.join)"
   ]
  },
  {
   "cell_type": "code",
   "execution_count": 380,
   "metadata": {
    "collapsed": false
   },
   "outputs": [],
   "source": [
    "from sklearn.feature_extraction.text import CountVectorizer\n",
    "\n",
    "#texts=[\"dog cat fish\",\"dog cat cat\",\"fish bird\", 'bird']\n",
    "cv = CountVectorizer()\n",
    "cv_fit=cv.fit_transform(pUK['LD'][(pUK.gender=='F')&(pUK.popNorm>90)])\n"
   ]
  },
  {
   "cell_type": "code",
   "execution_count": 381,
   "metadata": {
    "collapsed": false
   },
   "outputs": [],
   "source": [
    "z=list(zip(cv.get_feature_names(),\n",
    "    np.asarray(cv_fit.sum(axis=0)).ravel()))"
   ]
  },
  {
   "cell_type": "code",
   "execution_count": 382,
   "metadata": {
    "collapsed": false
   },
   "outputs": [],
   "source": [
    "z.sort(key = lambda t: t[1],reverse=True)\n",
    "z=[zz[0] for zz in z]"
   ]
  },
  {
   "cell_type": "code",
   "execution_count": 383,
   "metadata": {
    "collapsed": false
   },
   "outputs": [
    {
     "name": "stdout",
     "output_type": "stream",
     "text": [
      "Popular women have these top 10 words ['looking', 'like', 'family', 'love', 'good', 'time', 'life', 'enjoy', 'person', 'know']\n"
     ]
    }
   ],
   "source": [
    "print('Popular women have these top 10 words %s'%z[0:10])"
   ]
  },
  {
   "cell_type": "code",
   "execution_count": 384,
   "metadata": {
    "collapsed": false
   },
   "outputs": [],
   "source": [
    "from sklearn.feature_extraction.text import CountVectorizer\n",
    "\n",
    "#texts=[\"dog cat fish\",\"dog cat cat\",\"fish bird\", 'bird']\n",
    "cv = CountVectorizer()\n",
    "cv_fit=cv.fit_transform(pUK['LD'][(pUK.gender=='F')&(pUK.popNorm<60)])\n"
   ]
  },
  {
   "cell_type": "code",
   "execution_count": 385,
   "metadata": {
    "collapsed": false
   },
   "outputs": [],
   "source": [
    "z=list(zip(cv.get_feature_names(),\n",
    "    np.asarray(cv_fit.sum(axis=0)).ravel()))"
   ]
  },
  {
   "cell_type": "code",
   "execution_count": 386,
   "metadata": {
    "collapsed": true
   },
   "outputs": [],
   "source": [
    "z.sort(key = lambda t: t[1],reverse=True)\n",
    "z=[zz[0] for zz in z]"
   ]
  },
  {
   "cell_type": "code",
   "execution_count": 387,
   "metadata": {
    "collapsed": false
   },
   "outputs": [
    {
     "name": "stdout",
     "output_type": "stream",
     "text": [
      "Unpopular women have these top 10 words ['love', 'like', 'looking', 'good', 'family', 'enjoy', 'life', 'time', 'know', 'want']\n"
     ]
    }
   ],
   "source": [
    "print('Unpopular women have these top 10 words %s'%z[0:10])"
   ]
  },
  {
   "cell_type": "code",
   "execution_count": 388,
   "metadata": {
    "collapsed": false
   },
   "outputs": [
    {
     "name": "stdout",
     "output_type": "stream",
     "text": [
      "Unpopular men have these top 10 words ['like', 'looking', 'family', 'good', 'love', 'life', 'know', 'time', 'person', 'going']\n"
     ]
    }
   ],
   "source": [
    "from sklearn.feature_extraction.text import CountVectorizer\n",
    "\n",
    "#texts=[\"dog cat fish\",\"dog cat cat\",\"fish bird\", 'bird']\n",
    "cv = CountVectorizer()\n",
    "cv_fit=cv.fit_transform(pUK['LD'][(pUK.gender=='M')&(pUK.popNorm<20)])\n",
    "\n",
    "z=list(zip(cv.get_feature_names(),\n",
    "    np.asarray(cv_fit.sum(axis=0)).ravel()))\n",
    "z.sort(key = lambda t: t[1],reverse=True)\n",
    "z=[zz[0] for zz in z]\n",
    "print('Unpopular men have these top 10 words %s'%z[0:10])"
   ]
  },
  {
   "cell_type": "code",
   "execution_count": 389,
   "metadata": {
    "collapsed": false
   },
   "outputs": [
    {
     "name": "stdout",
     "output_type": "stream",
     "text": [
      "Popular men have these top 10 words ['like', 'love', 'person', 'looking', 'good', 'life', 'family', 'time', 'know', 'just']\n"
     ]
    }
   ],
   "source": [
    "from sklearn.feature_extraction.text import CountVectorizer\n",
    "\n",
    "#texts=[\"dog cat fish\",\"dog cat cat\",\"fish bird\", 'bird']\n",
    "cv = CountVectorizer()\n",
    "cv_fit=cv.fit_transform(pUK['LD'][(pUK.gender=='M')&(pUK.popNorm>90)])\n",
    "\n",
    "z=list(zip(cv.get_feature_names(),\n",
    "    np.asarray(cv_fit.sum(axis=0)).ravel()))\n",
    "z.sort(key = lambda t: t[1],reverse=True)\n",
    "z=[zz[0] for zz in z]\n",
    "print('Popular men have these top 10 words %s'%z[0:10])"
   ]
  },
  {
   "cell_type": "code",
   "execution_count": 391,
   "metadata": {
    "collapsed": false
   },
   "outputs": [
    {
     "name": "stdout",
     "output_type": "stream",
     "text": [
      "Unpopular men have these top 10 words ['looking', 'life', 'like', 'love', 'good', 'best', 'know', 'make', 'partner', 'half']\n"
     ]
    }
   ],
   "source": [
    "from sklearn.feature_extraction.text import CountVectorizer\n",
    "\n",
    "pUK['SM']=pUK['SM'].map(' '.join)\n",
    "#texts=[\"dog cat fish\",\"dog cat cat\",\"fish bird\", 'bird']\n",
    "cv = CountVectorizer()\n",
    "cv_fit=cv.fit_transform(pUK['SM'][(pUK.gender=='M')&(pUK.popNorm<20)])\n",
    "\n",
    "z=list(zip(cv.get_feature_names(),\n",
    "    np.asarray(cv_fit.sum(axis=0)).ravel()))\n",
    "z.sort(key = lambda t: t[1],reverse=True)\n",
    "z=[zz[0] for zz in z]\n",
    "print('Unpopular men have these top 10 words %s'%z[0:10])"
   ]
  },
  {
   "cell_type": "code",
   "execution_count": 392,
   "metadata": {
    "collapsed": false
   },
   "outputs": [
    {
     "name": "stdout",
     "output_type": "stream",
     "text": [
      "Popular men have these top 10 words ['life', 'happy', 'marriage', 'guy', 'just', 'look', 'looking', 'loving', 'nice', 'right']\n"
     ]
    }
   ],
   "source": [
    "from sklearn.feature_extraction.text import CountVectorizer\n",
    "\n",
    "#texts=[\"dog cat fish\",\"dog cat cat\",\"fish bird\", 'bird']\n",
    "cv = CountVectorizer()\n",
    "cv_fit=cv.fit_transform(pUK['SM'][(pUK.gender=='M')&(pUK.popNorm>90)])\n",
    "\n",
    "z=list(zip(cv.get_feature_names(),\n",
    "    np.asarray(cv_fit.sum(axis=0)).ravel()))\n",
    "z.sort(key = lambda t: t[1],reverse=True)\n",
    "z=[zz[0] for zz in z]\n",
    "print('Popular men have these top 10 words %s'%z[0:10])"
   ]
  },
  {
   "cell_type": "code",
   "execution_count": 393,
   "metadata": {
    "collapsed": false
   },
   "outputs": [
    {
     "name": "stdout",
     "output_type": "stream",
     "text": [
      "Popular women have these top 10 words ['life', 'looking', 'love', 'time', 'just', 'good', 'half', 'right', 'best', 'make']\n"
     ]
    }
   ],
   "source": [
    "from sklearn.feature_extraction.text import CountVectorizer\n",
    "\n",
    "#texts=[\"dog cat fish\",\"dog cat cat\",\"fish bird\", 'bird']\n",
    "cv = CountVectorizer()\n",
    "cv_fit=cv.fit_transform(pUK['SM'][(pUK.gender=='F')&(pUK.popNorm>90)])\n",
    "\n",
    "z=list(zip(cv.get_feature_names(),\n",
    "    np.asarray(cv_fit.sum(axis=0)).ravel()))\n",
    "z.sort(key = lambda t: t[1],reverse=True)\n",
    "z=[zz[0] for zz in z]\n",
    "print('Popular women have these top 10 words %s'%z[0:10])"
   ]
  },
  {
   "cell_type": "code",
   "execution_count": 394,
   "metadata": {
    "collapsed": false
   },
   "outputs": [
    {
     "name": "stdout",
     "output_type": "stream",
     "text": [
      "UnPopular women have these top 10 words ['know', 'looking', 'love', 'honest', 'journey', 'like', 'new', 'say', 'smile', 'think']\n"
     ]
    }
   ],
   "source": [
    "from sklearn.feature_extraction.text import CountVectorizer\n",
    "\n",
    "#texts=[\"dog cat fish\",\"dog cat cat\",\"fish bird\", 'bird']\n",
    "cv = CountVectorizer()\n",
    "cv_fit=cv.fit_transform(pUK['SM'][(pUK.gender=='F')&(pUK.popNorm<60)])\n",
    "\n",
    "z=list(zip(cv.get_feature_names(),\n",
    "    np.asarray(cv_fit.sum(axis=0)).ravel()))\n",
    "z.sort(key = lambda t: t[1],reverse=True)\n",
    "z=[zz[0] for zz in z]\n",
    "print('UnPopular women have these top 10 words %s'%z[0:10])"
   ]
  },
  {
   "cell_type": "code",
   "execution_count": 400,
   "metadata": {
    "collapsed": false
   },
   "outputs": [
    {
     "data": {
      "text/plain": [
       "<matplotlib.text.Text at 0x7f7549174e10>"
      ]
     },
     "execution_count": 400,
     "metadata": {},
     "output_type": "execute_result"
    },
    {
     "name": "stderr",
     "output_type": "stream",
     "text": [
      "/usr/local/lib/python3.5/dist-packages/matplotlib/font_manager.py:1288: UserWarning: findfont: Font family ['Humor Sans', 'Comic Sans MS'] not found. Falling back to Bitstream Vera Sans\n",
      "  (prop.get_family(), self.defaultFamily[fontext]))\n"
     ]
    },
    {
     "data": {
      "image/png": "[encoded data removed]",
      "text/plain": [
       "<matplotlib.figure.Figure at 0x7f75493a2c18>"
      ]
     },
     "metadata": {},
     "output_type": "display_data"
    }
   ],
   "source": [
    "plt.plot(pUK['age'][pUK.gender=='F'],pUK['impression'][pUK.gender=='F'],'rx')\n",
    "plt.xlabel('age')\n",
    "plt.ylabel('impression')"
   ]
  },
  {
   "cell_type": "code",
   "execution_count": 398,
   "metadata": {
    "collapsed": false
   },
   "outputs": [
    {
     "data": {
      "text/plain": [
       "<matplotlib.text.Text at 0x7f752ff34ba8>"
      ]
     },
     "execution_count": 398,
     "metadata": {},
     "output_type": "execute_result"
    },
    {
     "name": "stderr",
     "output_type": "stream",
     "text": [
      "/usr/local/lib/python3.5/dist-packages/matplotlib/font_manager.py:1288: UserWarning: findfont: Font family ['Humor Sans', 'Comic Sans MS'] not found. Falling back to Bitstream Vera Sans\n",
      "  (prop.get_family(), self.defaultFamily[fontext]))\n"
     ]
    },
    {
     "data": {
      "image/png": "[encoded data removed]",
      "text/plain": [
       "<matplotlib.figure.Figure at 0x7f754a77aba8>"
      ]
     },
     "metadata": {},
     "output_type": "display_data"
    }
   ],
   "source": [
    "plt.plot(pUK['age'][pUK.gender=='M'],pUK['impression'][pUK.gender=='M'],'x')\n",
    "plt.xlabel('age')\n",
    "plt.ylabel('impression')"
   ]
  },
  {
   "cell_type": "code",
   "execution_count": 176,
   "metadata": {
    "collapsed": false
   },
   "outputs": [
    {
     "name": "stdout",
     "output_type": "stream",
     "text": [
      "mean is 15.4874621906 and with the std is 19.198966691\n"
     ]
    }
   ],
   "source": [
    "ms=np.sqrt(np.std(pUK['popNorm'][pUK['gender']=='M']))+np.mean(pUK['popNorm'][pUK['gender']=='M'])\n",
    "m=np.mean(pUK['popNorm'][pUK['gender']=='M'])\n",
    "\n",
    "print('mean is %s and with the std is %s'%(m,ms))\n",
    "\n"
   ]
  },
  {
   "cell_type": "code",
   "execution_count": 177,
   "metadata": {
    "collapsed": false
   },
   "outputs": [
    {
     "name": "stdout",
     "output_type": "stream",
     "text": [
      "mean is 84.2572699198 and with the std is 87.1104536804\n"
     ]
    }
   ],
   "source": [
    "ms=np.sqrt(np.std(pUK['popNorm'][pUK['gender']=='F']))+np.mean(pUK['popNorm'][pUK['gender']=='F'])\n",
    "m=np.mean(pUK['popNorm'][pUK['gender']=='F'])\n",
    "print('mean is %s and with the std is %s'%(m,ms))\n"
   ]
  },
  {
   "cell_type": "code",
   "execution_count": null,
   "metadata": {
    "collapsed": true
   },
   "outputs": [],
   "source": []
  },
  {
   "cell_type": "code",
   "execution_count": null,
   "metadata": {
    "collapsed": false
   },
   "outputs": [],
   "source": []
  },
  {
   "cell_type": "code",
   "execution_count": 180,
   "metadata": {
    "collapsed": false
   },
   "outputs": [
    {
     "data": {
      "text/plain": [
       "3661"
      ]
     },
     "execution_count": 180,
     "metadata": {},
     "output_type": "execute_result"
    }
   ],
   "source": [
    "len(pUK[(pUK.target>0)&(pUK.gender=='F')])"
   ]
  },
  {
   "cell_type": "code",
   "execution_count": 181,
   "metadata": {
    "collapsed": false
   },
   "outputs": [
    {
     "data": {
      "text/plain": [
       "4873"
      ]
     },
     "execution_count": 181,
     "metadata": {},
     "output_type": "execute_result"
    }
   ],
   "source": [
    "len(pUK[(pUK.target>0)&(pUK.gender=='M')])"
   ]
  },
  {
   "cell_type": "code",
   "execution_count": 182,
   "metadata": {
    "collapsed": false
   },
   "outputs": [
    {
     "data": {
      "text/plain": [
       "84.25726991984294"
      ]
     },
     "execution_count": 182,
     "metadata": {},
     "output_type": "execute_result"
    }
   ],
   "source": [
    "np.mean(pUK['popNorm'][pUK['gender']=='F'])"
   ]
  },
  {
   "cell_type": "code",
   "execution_count": 183,
   "metadata": {
    "collapsed": false
   },
   "outputs": [],
   "source": [
    "def concat_SM(sm):\n",
    "    new_sm=[]\n",
    "    if sm is not None:\n",
    "        if len(sm)!=0:\n",
    "            for t in sm:\n",
    "                new_sm.append('SM_'+t)\n",
    "    return new_sm\n",
    "def concat_LD(sm):\n",
    "    new_sm=[]\n",
    "    if sm is not None:\n",
    "        if len(sm)!=0:\n",
    "            for t in sm:\n",
    "                new_sm.append('LD_'+t)\n",
    "    return new_sm\n",
    "                "
   ]
  },
  {
   "cell_type": "code",
   "execution_count": 184,
   "metadata": {
    "collapsed": false
   },
   "outputs": [
    {
     "name": "stderr",
     "output_type": "stream",
     "text": [
      "/usr/local/lib/python3.5/dist-packages/ipykernel/__main__.py:1: SettingWithCopyWarning: \n",
      "A value is trying to be set on a copy of a slice from a DataFrame.\n",
      "Try using .loc[row_indexer,col_indexer] = value instead\n",
      "\n",
      "See the caveats in the documentation: http://pandas.pydata.org/pandas-docs/stable/indexing.html#indexing-view-versus-copy\n",
      "  if __name__ == '__main__':\n"
     ]
    }
   ],
   "source": [
    "pUK['SM']=pUK['SM'].apply(concat_SM)"
   ]
  },
  {
   "cell_type": "code",
   "execution_count": 185,
   "metadata": {
    "collapsed": false
   },
   "outputs": [
    {
     "name": "stderr",
     "output_type": "stream",
     "text": [
      "/usr/local/lib/python3.5/dist-packages/ipykernel/__main__.py:1: SettingWithCopyWarning: \n",
      "A value is trying to be set on a copy of a slice from a DataFrame.\n",
      "Try using .loc[row_indexer,col_indexer] = value instead\n",
      "\n",
      "See the caveats in the documentation: http://pandas.pydata.org/pandas-docs/stable/indexing.html#indexing-view-versus-copy\n",
      "  if __name__ == '__main__':\n"
     ]
    }
   ],
   "source": [
    "pUK['LD']=pUK['LD'].apply(concat_LD)"
   ]
  },
  {
   "cell_type": "code",
   "execution_count": null,
   "metadata": {
    "collapsed": false
   },
   "outputs": [],
   "source": [
    "\n"
   ]
  },
  {
   "cell_type": "code",
   "execution_count": null,
   "metadata": {
    "collapsed": false
   },
   "outputs": [],
   "source": []
  },
  {
   "cell_type": "code",
   "execution_count": null,
   "metadata": {
    "collapsed": false
   },
   "outputs": [],
   "source": [
    "\n"
   ]
  },
  {
   "cell_type": "code",
   "execution_count": 186,
   "metadata": {
    "collapsed": false
   },
   "outputs": [],
   "source": [
    "colSM=pUK['SM'].str.join('|').str.get_dummies()\n",
    "colLD=pUK['LD'].str.join('|').str.get_dummies()\n",
    "colEth=pUK['ethnic'].str.get_dummies()\n",
    "countAge,binsAge=np.histogram(pUK['age'],bins=[20,25,30,35,40,45,50,55,60])\n",
    "countSM,binsSM=np.histogram(pUK['SMlen'],bins=20)\n",
    "countLD,binsLD=np.histogram(pUK['LDlen'],bins=100)\n"
   ]
  },
  {
   "cell_type": "code",
   "execution_count": 187,
   "metadata": {
    "collapsed": true
   },
   "outputs": [],
   "source": [
    "countlikes,binslikes=np.histogram(pUK['likes'])\n"
   ]
  },
  {
   "cell_type": "code",
   "execution_count": 188,
   "metadata": {
    "collapsed": true
   },
   "outputs": [],
   "source": [
    "colgender=pUK['gender'].str.get_dummies()"
   ]
  },
  {
   "cell_type": "code",
   "execution_count": 189,
   "metadata": {
    "collapsed": false
   },
   "outputs": [],
   "source": [
    "def get_bin(data,bins):\n",
    "    for b in bins:\n",
    "        if data<b:\n",
    "            return round(b)"
   ]
  },
  {
   "cell_type": "code",
   "execution_count": 190,
   "metadata": {
    "collapsed": false
   },
   "outputs": [
    {
     "name": "stderr",
     "output_type": "stream",
     "text": [
      "/usr/local/lib/python3.5/dist-packages/ipykernel/__main__.py:1: SettingWithCopyWarning: \n",
      "A value is trying to be set on a copy of a slice from a DataFrame.\n",
      "Try using .loc[row_indexer,col_indexer] = value instead\n",
      "\n",
      "See the caveats in the documentation: http://pandas.pydata.org/pandas-docs/stable/indexing.html#indexing-view-versus-copy\n",
      "  if __name__ == '__main__':\n"
     ]
    }
   ],
   "source": [
    "pUK['age']=pUK['age'].apply(get_bin,args=(binsAge,))"
   ]
  },
  {
   "cell_type": "code",
   "execution_count": 191,
   "metadata": {
    "collapsed": false
   },
   "outputs": [
    {
     "name": "stderr",
     "output_type": "stream",
     "text": [
      "/usr/local/lib/python3.5/dist-packages/ipykernel/__main__.py:1: SettingWithCopyWarning: \n",
      "A value is trying to be set on a copy of a slice from a DataFrame.\n",
      "Try using .loc[row_indexer,col_indexer] = value instead\n",
      "\n",
      "See the caveats in the documentation: http://pandas.pydata.org/pandas-docs/stable/indexing.html#indexing-view-versus-copy\n",
      "  if __name__ == '__main__':\n"
     ]
    }
   ],
   "source": [
    "pUK['SMlen']=pUK['SMlen'].apply(get_bin,args=(binsSM,))"
   ]
  },
  {
   "cell_type": "code",
   "execution_count": 192,
   "metadata": {
    "collapsed": false
   },
   "outputs": [
    {
     "name": "stderr",
     "output_type": "stream",
     "text": [
      "/usr/local/lib/python3.5/dist-packages/ipykernel/__main__.py:1: SettingWithCopyWarning: \n",
      "A value is trying to be set on a copy of a slice from a DataFrame.\n",
      "Try using .loc[row_indexer,col_indexer] = value instead\n",
      "\n",
      "See the caveats in the documentation: http://pandas.pydata.org/pandas-docs/stable/indexing.html#indexing-view-versus-copy\n",
      "  if __name__ == '__main__':\n"
     ]
    }
   ],
   "source": [
    "pUK['LDlen']=pUK['LDlen'].apply(get_bin,args=(binsLD,))"
   ]
  },
  {
   "cell_type": "code",
   "execution_count": 193,
   "metadata": {
    "collapsed": false
   },
   "outputs": [
    {
     "name": "stderr",
     "output_type": "stream",
     "text": [
      "/usr/local/lib/python3.5/dist-packages/ipykernel/__main__.py:1: SettingWithCopyWarning: \n",
      "A value is trying to be set on a copy of a slice from a DataFrame.\n",
      "Try using .loc[row_indexer,col_indexer] = value instead\n",
      "\n",
      "See the caveats in the documentation: http://pandas.pydata.org/pandas-docs/stable/indexing.html#indexing-view-versus-copy\n",
      "  if __name__ == '__main__':\n"
     ]
    }
   ],
   "source": [
    "pUK['likes']=pUK['likes'].apply(get_bin,args=(binslikes,))"
   ]
  },
  {
   "cell_type": "code",
   "execution_count": 194,
   "metadata": {
    "collapsed": false
   },
   "outputs": [
    {
     "name": "stderr",
     "output_type": "stream",
     "text": [
      "/usr/local/lib/python3.5/dist-packages/ipykernel/__main__.py:1: SettingWithCopyWarning: \n",
      "A value is trying to be set on a copy of a slice from a DataFrame.\n",
      "Try using .loc[row_indexer,col_indexer] = value instead\n",
      "\n",
      "See the caveats in the documentation: http://pandas.pydata.org/pandas-docs/stable/indexing.html#indexing-view-versus-copy\n",
      "  if __name__ == '__main__':\n"
     ]
    }
   ],
   "source": [
    "pUK['age']=pUK['age'].map(str)"
   ]
  },
  {
   "cell_type": "code",
   "execution_count": 195,
   "metadata": {
    "collapsed": true
   },
   "outputs": [],
   "source": [
    "def append_string(sm,st):\n",
    "    return st+sm"
   ]
  },
  {
   "cell_type": "code",
   "execution_count": 196,
   "metadata": {
    "collapsed": false
   },
   "outputs": [],
   "source": [
    "colage=pUK['age'].str.get_dummies()\n",
    "colage.columns=['age_'+a for a in colage.columns]\n"
   ]
  },
  {
   "cell_type": "code",
   "execution_count": 208,
   "metadata": {
    "collapsed": false
   },
   "outputs": [
    {
     "ename": "SyntaxError",
     "evalue": "unexpected EOF while parsing (<ipython-input-208-652759711f6f>, line 1)",
     "output_type": "error",
     "traceback": [
      "\u001b[0;36m  File \u001b[0;32m\"<ipython-input-208-652759711f6f>\"\u001b[0;36m, line \u001b[0;32m1\u001b[0m\n\u001b[0;31m    pUK[pUK['target']==1\u001b[0m\n\u001b[0m                        ^\u001b[0m\n\u001b[0;31mSyntaxError\u001b[0m\u001b[0;31m:\u001b[0m unexpected EOF while parsing\n"
     ]
    }
   ],
   "source": [
    "pUK[pUK['target']==1"
   ]
  },
  {
   "cell_type": "code",
   "execution_count": 197,
   "metadata": {
    "collapsed": false
   },
   "outputs": [
    {
     "name": "stderr",
     "output_type": "stream",
     "text": [
      "/usr/local/lib/python3.5/dist-packages/ipykernel/__main__.py:1: SettingWithCopyWarning: \n",
      "A value is trying to be set on a copy of a slice from a DataFrame.\n",
      "Try using .loc[row_indexer,col_indexer] = value instead\n",
      "\n",
      "See the caveats in the documentation: http://pandas.pydata.org/pandas-docs/stable/indexing.html#indexing-view-versus-copy\n",
      "  if __name__ == '__main__':\n"
     ]
    }
   ],
   "source": [
    "pUK['SMlen']=pUK['SMlen'].map(str)\n",
    "colSMlen=pUK['SMlen'].str.get_dummies()\n",
    "colSMlen.columns=['smLen_'+ l for l in colSMlen.columns]"
   ]
  },
  {
   "cell_type": "code",
   "execution_count": 198,
   "metadata": {
    "collapsed": false
   },
   "outputs": [
    {
     "name": "stderr",
     "output_type": "stream",
     "text": [
      "/usr/local/lib/python3.5/dist-packages/ipykernel/__main__.py:1: SettingWithCopyWarning: \n",
      "A value is trying to be set on a copy of a slice from a DataFrame.\n",
      "Try using .loc[row_indexer,col_indexer] = value instead\n",
      "\n",
      "See the caveats in the documentation: http://pandas.pydata.org/pandas-docs/stable/indexing.html#indexing-view-versus-copy\n",
      "  if __name__ == '__main__':\n"
     ]
    }
   ],
   "source": [
    "pUK['LDlen']=pUK['LDlen'].map(str)\n",
    "colLDlen=pUK['LDlen'].str.get_dummies()\n",
    "colLDlen.columns=['ldLen_'+l for l in colLDlen.columns]"
   ]
  },
  {
   "cell_type": "code",
   "execution_count": 199,
   "metadata": {
    "collapsed": false
   },
   "outputs": [
    {
     "name": "stderr",
     "output_type": "stream",
     "text": [
      "/usr/local/lib/python3.5/dist-packages/ipykernel/__main__.py:1: SettingWithCopyWarning: \n",
      "A value is trying to be set on a copy of a slice from a DataFrame.\n",
      "Try using .loc[row_indexer,col_indexer] = value instead\n",
      "\n",
      "See the caveats in the documentation: http://pandas.pydata.org/pandas-docs/stable/indexing.html#indexing-view-versus-copy\n",
      "  if __name__ == '__main__':\n"
     ]
    }
   ],
   "source": [
    "pUK['likes']=pUK['likes'].map(str)\n",
    "colLikes=pUK['likes'].str.get_dummies()\n",
    "colLikes.columns=['likes_'+l for l in colLikes.columns]"
   ]
  },
  {
   "cell_type": "code",
   "execution_count": 200,
   "metadata": {
    "collapsed": false
   },
   "outputs": [
    {
     "name": "stderr",
     "output_type": "stream",
     "text": [
      "/usr/local/lib/python3.5/dist-packages/ipykernel/__main__.py:1: SettingWithCopyWarning: \n",
      "A value is trying to be set on a copy of a slice from a DataFrame.\n",
      "Try using .loc[row_indexer,col_indexer] = value instead\n",
      "\n",
      "See the caveats in the documentation: http://pandas.pydata.org/pandas-docs/stable/indexing.html#indexing-view-versus-copy\n",
      "  if __name__ == '__main__':\n"
     ]
    }
   ],
   "source": [
    "pUK['activeSince']=pUK['activeSince'].map(str)\n",
    "colActive=pUK['activeSince'].str.get_dummies()\n",
    "colActive.columns=['ActiveDays_'+l for l in colActive.columns]"
   ]
  },
  {
   "cell_type": "code",
   "execution_count": 209,
   "metadata": {
    "collapsed": false
   },
   "outputs": [],
   "source": [
    "pUKM=pUK[pUK['gender']=='M']\n",
    "colSMM=colSM.ix[[i for i in colSM.index if i in pUKM.index]]\n",
    "colLDM=colLD.ix[[i for i in colLD.index if i in pUKM.index]]\n",
    "colEthM=colEth.ix[[i for i in colEth.index if i in pUKM.index]]\n",
    "colgenderM=colgender.ix[[i for i in colgender.index if i in pUKM.index]]\n",
    "colLikesM=colLikes.ix[[i for i in colLikes.index if i in pUKM.index]]\n",
    "colLDlenM=colLDlen.ix[[i for i in colLDlen.index if i in pUKM.index]]\n",
    "colSMlenM=colSMlen.ix[[i for i in colSMlen.index if i in pUKM.index]]\n",
    "colageM=colage.ix[[i for i in colage.index if i in pUKM.index]]\n",
    "colActiveM=colActive.ix[[i for i in colActive.index if i in pUKM.index]]\n"
   ]
  },
  {
   "cell_type": "code",
   "execution_count": 210,
   "metadata": {
    "collapsed": false
   },
   "outputs": [],
   "source": [
    "pML=pd.concat([colEthM,colageM,colSMlenM,colLDlenM],axis=1)"
   ]
  },
  {
   "cell_type": "code",
   "execution_count": null,
   "metadata": {
    "collapsed": false
   },
   "outputs": [],
   "source": []
  },
  {
   "cell_type": "markdown",
   "metadata": {},
   "source": [
    "Machine Learning Baby!\n",
    "============"
   ]
  },
  {
   "cell_type": "code",
   "execution_count": 228,
   "metadata": {
    "collapsed": false
   },
   "outputs": [],
   "source": [
    "from sklearn.metrics import roc_curve, auc\n",
    "import pandas as pd\n",
    "from sklearn_pandas import DataFrameMapper, cross_val_score\n",
    "import sklearn\n",
    "from sklearn import linear_model\n",
    "from sklearn.ensemble import RandomForestClassifier\n",
    "\n",
    "from sklearn.model_selection import train_test_split\n",
    "import numpy as np\n",
    "import matplotlib.pyplot as plt\n",
    "from sklearn.cross_validation import StratifiedKFold\n",
    "from sklearn import svm\n",
    "from scipy import interp\n",
    "model=linear_model.LogisticRegression()\n",
    "#model=svm.SVC()\n",
    "#model=RandomForestClassifier(n_jobs=-1,max_depth=5,random_state=42,n_estimators=500,max_features = \"auto\", min_samples_leaf = 50,oob_score=True)"
   ]
  },
  {
   "cell_type": "code",
   "execution_count": 241,
   "metadata": {
    "collapsed": false
   },
   "outputs": [
    {
     "name": "stderr",
     "output_type": "stream",
     "text": [
      "/usr/local/lib/python3.5/dist-packages/ipykernel/__main__.py:10: SettingWithCopyWarning: \n",
      "A value is trying to be set on a copy of a slice from a DataFrame.\n",
      "Try using .loc[row_indexer,col_indexer] = value instead\n",
      "\n",
      "See the caveats in the documentation: http://pandas.pydata.org/pandas-docs/stable/indexing.html#indexing-view-versus-copy\n",
      "/usr/local/lib/python3.5/dist-packages/ipykernel/__main__.py:11: SettingWithCopyWarning: \n",
      "A value is trying to be set on a copy of a slice from a DataFrame.\n",
      "Try using .loc[row_indexer,col_indexer] = value instead\n",
      "\n",
      "See the caveats in the documentation: http://pandas.pydata.org/pandas-docs/stable/indexing.html#indexing-view-versus-copy\n"
     ]
    }
   ],
   "source": [
    "def get_target(p):\n",
    "    gender=p['gender']\n",
    "    pop=p['popNorm']\n",
    "    if gender=='M' and pop>60:\n",
    "        return 1\n",
    "    elif gender=='F' and pop>85:\n",
    "        return 1\n",
    "    else:\n",
    "        return 0\n",
    "pUK['target']=pd.Series(np.random.randn(len(pUK)), index=pUK.index)\n",
    "pUK['target']=pUK.apply(get_target,axis=1)"
   ]
  },
  {
   "cell_type": "code",
   "execution_count": 242,
   "metadata": {
    "collapsed": false
   },
   "outputs": [],
   "source": [
    "pML=pML.reset_index()\n",
    "pML=pML.drop('index',axis=1)"
   ]
  },
  {
   "cell_type": "code",
   "execution_count": 243,
   "metadata": {
    "collapsed": false
   },
   "outputs": [],
   "source": [
    "cv = StratifiedKFold(np.array(pUK.target[pUK['gender']=='M']), n_folds=6)\n",
    "y=np.array(pUK.target)\n",
    "X=pML"
   ]
  },
  {
   "cell_type": "code",
   "execution_count": 244,
   "metadata": {
    "collapsed": false
   },
   "outputs": [
    {
     "data": {
      "image/png": "[encoded data removed]",
      "text/plain": [
       "<matplotlib.figure.Figure at 0x7f7621b8a2b0>"
      ]
     },
     "metadata": {},
     "output_type": "display_data"
    }
   ],
   "source": [
    "from sklearn.metrics import roc_auc_score\n",
    "\n",
    "mean_tpr = 0.0\n",
    "mean_fpr = np.linspace(0, 1, 100)\n",
    "all_tpr = []\n",
    "for i, (train, test) in enumerate(cv):\n",
    "    probas_ = model.fit(X.ix[list(train)], y[train]).predict_proba(X.ix[list(test)])\n",
    "    # Compute ROC curve and area the curve\n",
    "   \n",
    "    fpr, tpr, thresholds = roc_curve(y[test], probas_[:, 1])\n",
    "    mean_tpr += interp(mean_fpr, fpr, tpr)\n",
    "    mean_tpr[0] = 0.0\n",
    "    roc_auc = auc(fpr, tpr)\n",
    "    \n",
    "    plt.plot(fpr, tpr, lw=1, label='ROC fold %d (area = %0.2f)' % (i, roc_auc))\n",
    "\n",
    "plt.plot([0, 1], [0, 1], '--', color=(0.6, 0.6, 0.6), label='Luck')\n",
    "mean_tpr /= len(cv)\n",
    "mean_tpr[-1] = 1.0\n",
    "mean_auc = auc(mean_fpr, mean_tpr)\n",
    "plt.plot(mean_fpr, mean_tpr, 'k--',\n",
    "         label='Mean ROC (area = %0.2f)' % mean_auc, lw=2)\n",
    "\n",
    "plt.xlim([-0.05, 1.05])\n",
    "plt.ylim([-0.05, 1.05])\n",
    "plt.xlabel('False Positive Rate')\n",
    "plt.ylabel('True Positive Rate')\n",
    "plt.title('ROC')\n",
    "#plt.legend(loc=\"right\")\n",
    "plt.show()"
   ]
  },
  {
   "cell_type": "code",
   "execution_count": 396,
   "metadata": {
    "collapsed": false
   },
   "outputs": [
    {
     "ename": "AttributeError",
     "evalue": "'LogisticRegression' object has no attribute 'feature_importances_'",
     "output_type": "error",
     "traceback": [
      "\u001b[0;31m---------------------------------------------------------------------------\u001b[0m",
      "\u001b[0;31mAttributeError\u001b[0m                            Traceback (most recent call last)",
      "\u001b[0;32m<ipython-input-396-585af29287d7>\u001b[0m in \u001b[0;36m<module>\u001b[0;34m()\u001b[0m\n\u001b[0;32m----> 1\u001b[0;31m \u001b[0mimportances\u001b[0m\u001b[0;34m=\u001b[0m\u001b[0mmodel\u001b[0m\u001b[0;34m.\u001b[0m\u001b[0mfeature_importances_\u001b[0m\u001b[0;34m\u001b[0m\u001b[0m\n\u001b[0m\u001b[1;32m      2\u001b[0m \u001b[0mindices\u001b[0m \u001b[0;34m=\u001b[0m \u001b[0mnp\u001b[0m\u001b[0;34m.\u001b[0m\u001b[0margsort\u001b[0m\u001b[0;34m(\u001b[0m\u001b[0mimportances\u001b[0m\u001b[0;34m)\u001b[0m\u001b[0;34m[\u001b[0m\u001b[0;34m:\u001b[0m\u001b[0;34m:\u001b[0m\u001b[0;34m-\u001b[0m\u001b[0;36m1\u001b[0m\u001b[0;34m]\u001b[0m\u001b[0;34m\u001b[0m\u001b[0m\n\u001b[1;32m      3\u001b[0m \u001b[0mnames\u001b[0m\u001b[0;34m=\u001b[0m\u001b[0mpML\u001b[0m\u001b[0;34m.\u001b[0m\u001b[0mcolumns\u001b[0m\u001b[0;34m\u001b[0m\u001b[0m\n",
      "\u001b[0;31mAttributeError\u001b[0m: 'LogisticRegression' object has no attribute 'feature_importances_'"
     ]
    }
   ],
   "source": [
    "importances=model.feature_importances_\n",
    "indices = np.argsort(importances)[::-1]\n",
    "names=pML.columns\n"
   ]
  },
  {
   "cell_type": "code",
   "execution_count": null,
   "metadata": {
    "collapsed": false
   },
   "outputs": [],
   "source": []
  },
  {
   "cell_type": "code",
   "execution_count": null,
   "metadata": {
    "collapsed": false
   },
   "outputs": [],
   "source": [
    "for f in range(X.shape[1]):\n",
    "    print(\"%d. feature %s (%f)\" % (f + 1, names[indices[f]], importances[indices[f]]))"
   ]
  },
  {
   "cell_type": "code",
   "execution_count": null,
   "metadata": {
    "collapsed": false
   },
   "outputs": [],
   "source": [
    "pUK.sort(columns=['popNorm'],ascending=False)"
   ]
  },
  {
   "cell_type": "code",
   "execution_count": null,
   "metadata": {
    "collapsed": false
   },
   "outputs": [],
   "source": [
    "d2['74743']"
   ]
  },
  {
   "cell_type": "markdown",
   "metadata": {},
   "source": [
    "Notes\n",
    "------\n",
    "Given the huge number of nodes "
   ]
  },
  {
   "cell_type": "code",
   "execution_count": null,
   "metadata": {
    "collapsed": false
   },
   "outputs": [],
   "source": [
    "graph_edges=pd.DataFrame(G.data(\"MATCH (m)-[r]->(n) RETURN m.mid,n.mid\"))\n",
    "edges=list(zip(graph_edges['m.mid'].tolist(),graph_edges['n.mid'].tolist()))"
   ]
  },
  {
   "cell_type": "code",
   "execution_count": 7,
   "metadata": {
    "collapsed": false
   },
   "outputs": [],
   "source": [
    "with open(data+'alikesb.csv','r') as file:\n",
    "    doc=file.readlines()"
   ]
  },
  {
   "cell_type": "code",
   "execution_count": 5,
   "metadata": {
    "collapsed": false
   },
   "outputs": [],
   "source": [
    "import csv"
   ]
  },
  {
   "cell_type": "code",
   "execution_count": 1,
   "metadata": {
    "collapsed": false
   },
   "outputs": [
    {
     "ename": "NameError",
     "evalue": "name 'csv' is not defined",
     "output_type": "error",
     "traceback": [
      "\u001b[0;31m---------------------------------------------------------------------------\u001b[0m",
      "\u001b[0;31mNameError\u001b[0m                                 Traceback (most recent call last)",
      "\u001b[0;32m<ipython-input-1-db43e0694365>\u001b[0m in \u001b[0;36m<module>\u001b[0;34m()\u001b[0m\n\u001b[0;32m----> 1\u001b[0;31m \u001b[0mdoc\u001b[0m\u001b[0;34m=\u001b[0m\u001b[0mcsv\u001b[0m\u001b[0;34m.\u001b[0m\u001b[0mreader\u001b[0m\u001b[0;34m(\u001b[0m\u001b[0mopen\u001b[0m\u001b[0;34m(\u001b[0m\u001b[0mdata\u001b[0m\u001b[0;34m+\u001b[0m\u001b[0;34m'alikesb.csv'\u001b[0m\u001b[0;34m,\u001b[0m\u001b[0;34m'r'\u001b[0m\u001b[0;34m)\u001b[0m\u001b[0;34m)\u001b[0m\u001b[0;34m\u001b[0m\u001b[0m\n\u001b[0m",
      "\u001b[0;31mNameError\u001b[0m: name 'csv' is not defined"
     ]
    }
   ],
   "source": [
    "doc=csv.reader(open(data+'alikesb.csv','r'))"
   ]
  },
  {
   "cell_type": "code",
   "execution_count": null,
   "metadata": {
    "collapsed": false
   },
   "outputs": [],
   "source": [
    "G=nx.Graph()\n",
    "for row in doc:\n",
    "    G.add_nodes_from(row)\n",
    "    G.add_edge(row[0],row[1])"
   ]
  },
  {
   "cell_type": "code",
   "execution_count": null,
   "metadata": {
    "collapsed": false
   },
   "outputs": [],
   "source": [
    "partitions1 = community.best_partition(G)\n",
    "partitions = [(k, v) for k, v in partitions1.items()]"
   ]
  },
  {
   "cell_type": "code",
   "execution_count": null,
   "metadata": {
    "collapsed": false
   },
   "outputs": [],
   "source": [
    "\n",
    "\n",
    "sorted_partitions = sorted(partitions, key=lambda tup: tup[1])\n",
    "communities = groupby(sorted_partitions, key=lambda tup: tup[1])\n",
    "\n",
    "mod = community.modularity(partitions1,G)\n",
    "\n"
   ]
  },
  {
   "cell_type": "code",
   "execution_count": null,
   "metadata": {
    "collapsed": true
   },
   "outputs": [],
   "source": [
    "# Plot, color nodes using community structure\n",
    "values = [partitions1.get(node) for node in G.nodes()]\n",
    "nx.draw_spring(G2, cmap=plt.get_cmap('jet'), node_color = values, node_size=30, with_labels=False)\n",
    "plt.show()"
   ]
  },
  {
   "cell_type": "code",
   "execution_count": null,
   "metadata": {
    "collapsed": false
   },
   "outputs": [],
   "source": [
    "comm={}\n",
    "for c, u in communities:\n",
    "    print(c)\n",
    "    u = list(u)\n",
    "    u = [y[0] for y in u]\n",
    "    comm[c] = u\n",
    "    print('Community %s has %s members\\n' % (c, len(u)))\n",
    "   "
   ]
  },
  {
   "cell_type": "code",
   "execution_count": null,
   "metadata": {
    "collapsed": false
   },
   "outputs": [],
   "source": [
    "#invert dictionary\n",
    "peeps={}\n",
    "for key in comm.keys():\n",
    "    people=comm[key]\n",
    "    for p in people:\n",
    "        peeps[p]=key"
   ]
  },
  {
   "cell_type": "code",
   "execution_count": null,
   "metadata": {
    "collapsed": false
   },
   "outputs": [],
   "source": [
    "comm_ethnic={}\n",
    "for key in comm.keys():\n",
    "    l=[]\n",
    "    for p in comm[key]:\n",
    "        eth=d[p]['ethnic']\n",
    "        l.append(eth)\n",
    "    comm_ethnic[key]=l\n",
    "\n",
    "comm_age={}\n",
    "\n",
    "for key in comm.keys():\n",
    "    l=[]\n",
    "    for p in comm[key]:\n",
    "        age=d[p]['age']\n",
    "        l.append(age)\n",
    "    comm_age[key]=(np.mean(l),np.sqrt(np.var(l)))"
   ]
  },
  {
   "cell_type": "code",
   "execution_count": null,
   "metadata": {
    "collapsed": false
   },
   "outputs": [],
   "source": [
    "comm_age_ethnic={}\n",
    "for key in comm.keys():\n",
    "    comm_age_ethnic[key]={}\n",
    "    for p in comm[key]:\n",
    "\n",
    "        typ=d[p]['ethnic']\n",
    "        if typ in comm_age_ethnic[key].keys():\n",
    "            age=d[p]['age']\n",
    "            l.append(age)\n",
    "        else:\n",
    "            age=d[p]['age']\n",
    "            l=[age]\n",
    "        comm_age_ethnic[key][typ]=l\n",
    "    for typ in comm_age_ethnic[key].keys():\n",
    "        comm_age_ethnic[key][typ]=(np.mean(comm_age_ethnic[key][typ]),np.sqrt(np.var(comm_age_ethnic[key][typ])))\n",
    "    comm_age_ethnic[key]['allStats']=comm_age[key]\n",
    "            "
   ]
  },
  {
   "cell_type": "code",
   "execution_count": null,
   "metadata": {
    "collapsed": false
   },
   "outputs": [],
   "source": [
    "comm_age_ethnic_gender={}\n",
    "for key in comm.keys():\n",
    "    comm_age_ethnic_gender[key]={}\n",
    "    for p in comm[key]:\n",
    "\n",
    "        typ=d[p]['ethnic']\n",
    "        g=d[p]['gender']\n",
    "        if g=='F':\n",
    "            if 'F' not in comm_age_ethnic_gender[key].keys():\n",
    "                comm_age_ethnic_gender[key]['F']={}\n",
    "            if typ in comm_age_ethnic_gender[key]['F'].keys():\n",
    "                age=d[p]['age']\n",
    "                l.append(age)\n",
    "            else:\n",
    "                age=d[p]['age']\n",
    "                l=[age]\n",
    "               \n",
    "                \n",
    "            comm_age_ethnic_gender[key]['F'][typ]=l\n",
    "        else:\n",
    "            if 'M' not in comm_age_ethnic_gender[key].keys():\n",
    "                \n",
    "                comm_age_ethnic_gender[key]['M']={}\n",
    "                \n",
    "            \n",
    "            \n",
    "            if typ in comm_age_ethnic_gender[key]['M'].keys():\n",
    "                age=d[p]['age']\n",
    "                l.append(age)\n",
    "            else:\n",
    "                age=d[p]['age']\n",
    "                l=[age]\n",
    "\n",
    "            comm_age_ethnic_gender[key]['M'][typ]=l \n",
    "\n",
    "                   \n",
    "    for gen in comm_age_ethnic_gender[key].keys():\n",
    "        for typ in comm_age_ethnic_gender[key][gen].keys():\n",
    "            l=[ll for ll in comm_age_ethnic_gender[key][gen][typ] if type(ll)==int]\n",
    "            comm_age_ethnic_gender[key][gen][typ]=(np.mean(l),np.sqrt(np.var(l)))\n",
    "        #comm_age_ethnic_gender[key][gen]['allStats']=comm_age[key][gen]\n",
    "          "
   ]
  },
  {
   "cell_type": "code",
   "execution_count": null,
   "metadata": {
    "collapsed": false
   },
   "outputs": [],
   "source": [
    "comm_age_ethnic_gender"
   ]
  },
  {
   "cell_type": "code",
   "execution_count": null,
   "metadata": {
    "collapsed": false
   },
   "outputs": [],
   "source": [
    "comm_avg_pop={}\n",
    "\n",
    "for key in comm.keys():\n",
    "    typ=Counter()\n",
    "    comm_avg_pop[key]={}\n",
    "    for p in comm[key]:\n",
    "        if p in pUK.index:\n",
    "            popularity=pUK.ix[p]['popNorm']\n",
    "            age=d[p]['age']\n",
    "            eth=d[p]['ethnic']\n",
    "            g=d[p]['gender']\n",
    "            sm=pUK.ix[p]['SM']\n",
    "            ld=pUK.ix[p]['LD']\n",
    "            likes=pUK.ix[p]['likes']\n",
    "            ldLen=pUK.ix[p]['LDlen']\n",
    "            smLen=pUK.ix[p]['SMlen']\n",
    "            typ[eth]+=1\n",
    "            if g in comm_avg_pop[key].keys():\n",
    "                comm_avg_pop[key][g]['SM'].append(sm)\n",
    "                comm_avg_pop[key][g]['LD'].append(ld)\n",
    "                comm_avg_pop[key][g]['ldLen'].append(ldLen)\n",
    "                comm_avg_pop[key][g]['smLen'].append(smLen)\n",
    "            else:\n",
    "                comm_avg_pop[key][g]={}\n",
    "                comm_avg_pop[key][g]['SM']=[sm]\n",
    "                comm_avg_pop[key][g]['LD']=[ld]\n",
    "                comm_avg_pop[key][g]['ldLen']=[ldLen]\n",
    "                comm_avg_pop[key][g]['smLen']=[smLen]\n",
    "                    \n",
    "                \n",
    "                \n",
    "            \n",
    "            \n",
    "            \n",
    "            \n",
    "            \n",
    "            \n",
    "    \n",
    "    "
   ]
  },
  {
   "cell_type": "code",
   "execution_count": null,
   "metadata": {
    "collapsed": false
   },
   "outputs": [],
   "source": [
    "#get top words in each community"
   ]
  },
  {
   "cell_type": "code",
   "execution_count": 2,
   "metadata": {
    "collapsed": false
   },
   "outputs": [
    {
     "ename": "NameError",
     "evalue": "name 'comm' is not defined",
     "output_type": "error",
     "traceback": [
      "\u001b[0;31m---------------------------------------------------------------------------\u001b[0m",
      "\u001b[0;31mNameError\u001b[0m                                 Traceback (most recent call last)",
      "\u001b[0;32m<ipython-input-2-667c4251352e>\u001b[0m in \u001b[0;36m<module>\u001b[0;34m()\u001b[0m\n\u001b[1;32m      1\u001b[0m \u001b[0;31m#get women SM and LD for each community and then for the men\u001b[0m\u001b[0;34m\u001b[0m\u001b[0;34m\u001b[0m\u001b[0m\n\u001b[1;32m      2\u001b[0m \u001b[0mSM\u001b[0m\u001b[0;34m=\u001b[0m\u001b[0;34m{\u001b[0m\u001b[0;34m}\u001b[0m\u001b[0;34m\u001b[0m\u001b[0m\n\u001b[0;32m----> 3\u001b[0;31m \u001b[0;32mfor\u001b[0m \u001b[0mc\u001b[0m \u001b[0;32min\u001b[0m \u001b[0mcomm\u001b[0m\u001b[0;34m.\u001b[0m\u001b[0mkeys\u001b[0m\u001b[0;34m(\u001b[0m\u001b[0;34m)\u001b[0m\u001b[0;34m:\u001b[0m\u001b[0;34m\u001b[0m\u001b[0m\n\u001b[0m\u001b[1;32m      4\u001b[0m     \u001b[0mSM\u001b[0m\u001b[0;34m[\u001b[0m\u001b[0mc\u001b[0m\u001b[0;34m]\u001b[0m\u001b[0;34m=\u001b[0m\u001b[0;34m{\u001b[0m\u001b[0;34m}\u001b[0m\u001b[0;34m\u001b[0m\u001b[0m\n\u001b[1;32m      5\u001b[0m     \u001b[0;32mfor\u001b[0m \u001b[0mp\u001b[0m \u001b[0;32min\u001b[0m \u001b[0mcomm\u001b[0m\u001b[0;34m[\u001b[0m\u001b[0mp\u001b[0m\u001b[0;34m]\u001b[0m\u001b[0;34m:\u001b[0m\u001b[0;34m\u001b[0m\u001b[0m\n",
      "\u001b[0;31mNameError\u001b[0m: name 'comm' is not defined"
     ]
    }
   ],
   "source": [
    "#get women SM and LD for each community and then for the men\n",
    "SM={}\n",
    "for c in comm.keys():\n",
    "    SM[c]={}\n",
    "    for p in comm[p]:\n",
    "        if dUK[p]['gender']=='M':\n",
    "            if 'M' in SM[c].keys():\n",
    "                SM[c]['M']=SM[c]['M']+' '+dUK[p]['SM']\n",
    "            else:\n",
    "                SM[c]['M']=dUK[p]['SM']\n",
    "        else:\n",
    "            if 'F' in SM[c].keys():\n",
    "                SM[c]['F']=SM[c]['F']+' '+dUK[p]['SM']\n",
    "            else:\n",
    "                SM[c]['F']=dUK[p]['SM']"
   ]
  },
  {
   "cell_type": "code",
   "execution_count": null,
   "metadata": {
    "collapsed": true
   },
   "outputs": [],
   "source": []
  }
 ],
 "metadata": {
  "kernelspec": {
   "display_name": "Python 3",
   "language": "python",
   "name": "python3"
  },
  "language_info": {
   "codemirror_mode": {
    "name": "ipython",
    "version": 3
   },
   "file_extension": ".py",
   "mimetype": "text/x-python",
   "name": "python",
   "nbconvert_exporter": "python",
   "pygments_lexer": "ipython3",
   "version": "3.5.2"
  }
 },
 "nbformat": 4,
 "nbformat_minor": 0
}
