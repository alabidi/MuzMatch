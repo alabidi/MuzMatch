{
 "cells": [
  {
   "cell_type": "code",
   "execution_count": 7,
   "metadata": {
    "collapsed": false
   },
   "outputs": [
    {
     "name": "stdout",
     "output_type": "stream",
     "text": [
      "Once deleted, variables cannot be recovered. Proceed (y/[n])? y\n"
     ]
    }
   ],
   "source": [
    "%matplotlib inline\n",
    "%reset\n",
    "\n",
    "import matplotlib\n",
    "import numpy as np\n",
    "import matplotlib.pyplot as plt\n",
    "\n",
    "import pandas as pd\n",
    "from py2neo import Graph,authenticate,Relationship,Node\n",
    "import networkx as nx\n",
    "import community\n",
    "import numpy as np\n",
    "from itertools import groupby\n",
    "from sklearn.feature_extraction.text import TfidfVectorizer\n",
    "from nltk.corpus import stopwords\n",
    "from nltk.stem import WordNetLemmatizer\n",
    "from PyDictionary import PyDictionary\n",
    "from collections import Counter\n",
    "from datetime import datetime\n",
    "import pandas as pd\n",
    "from pymongo import MongoClient\n",
    "import json\n",
    "import pickle\n",
    "\n",
    "import ijson\n",
    "\n",
    "import sqlite3\n",
    "\n",
    "\n",
    "\n",
    "folder=''\n",
    "\n",
    "G=Graph()\n",
    "\n",
    "client = MongoClient()\n",
    "db=client.muzmatch"
   ]
  },
  {
   "cell_type": "code",
   "execution_count": 8,
   "metadata": {
    "collapsed": true
   },
   "outputs": [],
   "source": [
    "data='../repos/'"
   ]
  },
  {
   "cell_type": "markdown",
   "metadata": {
    "collapsed": false
   },
   "source": [
    "Load the dictionaries\n",
    "------------------------\n",
    "*d.pkl is the dict of all users\n",
    "\n",
    "*dUK.pkl is the dictionary of users in the UK\n",
    "\n",
    "This includes the following fields:\n",
    "\n",
    "*Gender\n",
    "\n",
    "*Age\n",
    "\n",
    "*Ethnicity\n",
    "\n",
    "*Long Description\n",
    "\n",
    "*Status Message\n",
    "\n",
    "*Number of Likes\n"
   ]
  },
  {
   "cell_type": "code",
   "execution_count": 9,
   "metadata": {
    "collapsed": false
   },
   "outputs": [],
   "source": [
    "d=pickle.load(open(data+'d.pkl','rb'))\n",
    "dUK=pickle.load(open(data+'dUK.pkl','rb'))"
   ]
  },
  {
   "cell_type": "markdown",
   "metadata": {},
   "source": [
    "This creates a new collection in the mongo MuzMatch database, which removes all the liked users who are no longer active."
   ]
  },
  {
   "cell_type": "code",
   "execution_count": 10,
   "metadata": {
    "collapsed": false
   },
   "outputs": [],
   "source": [
    "def trim_likes(d,doc):\n",
    "\n",
    "    likes=doc['who_i_liked']\n",
    "    trimmed_likes=[]\n",
    "    date=[]\n",
    "    for l in likes:\n",
    "        mid=l['user_id1']\n",
    "        date.append(l['timeStamp'].split(' ')[0])\n",
    "        if mid in d.keys():\n",
    "            trimmed_likes.append(mid)\n",
    "    doc['who_i_liked']=trimmed_likes\n",
    "    \n",
    "    doc['activeSince']=min(date)\n",
    "    return doc"
   ]
  },
  {
   "cell_type": "code",
   "execution_count": 13,
   "metadata": {
    "collapsed": false
   },
   "outputs": [],
   "source": [
    "collections=[db.n1,db.n2,db.n3,db.n4,db.n5]\n"
   ]
  },
  {
   "cell_type": "code",
   "execution_count": 14,
   "metadata": {
    "collapsed": true
   },
   "outputs": [],
   "source": [
    "db.trim.drop()\n",
    "trim=db.trim"
   ]
  },
  {
   "cell_type": "code",
   "execution_count": 15,
   "metadata": {
    "collapsed": false
   },
   "outputs": [],
   "source": [
    "for coll in collections:\n",
    "    for doc in coll.find({},{'memberID':1,\"who_i_liked\":1}):\n",
    "        if 'who_i_liked' in doc.keys():\n",
    "            doc=trim_likes(d,doc)\n",
    "            if doc['who_i_liked']!=[] and doc['who_i_liked'] is not None:#ensure that user only likes active users, otherwise assume user effectively inactive\n",
    "                \n",
    "                trim.insert_one(doc)"
   ]
  },
  {
   "cell_type": "code",
   "execution_count": 20,
   "metadata": {
    "collapsed": false
   },
   "outputs": [
    {
     "name": "stdout",
     "output_type": "stream",
     "text": [
      "we have 41466 records\n"
     ]
    }
   ],
   "source": [
    "print('we have %s records'%db.trim.count())"
   ]
  },
  {
   "cell_type": "code",
   "execution_count": null,
   "metadata": {
    "collapsed": false
   },
   "outputs": [],
   "source": []
  },
  {
   "cell_type": "code",
   "execution_count": null,
   "metadata": {
    "collapsed": false
   },
   "outputs": [],
   "source": []
  },
  {
   "cell_type": "code",
   "execution_count": null,
   "metadata": {
    "collapsed": false
   },
   "outputs": [],
   "source": []
  },
  {
   "cell_type": "markdown",
   "metadata": {},
   "source": [
    "Pandify\n",
    "---------------"
   ]
  },
  {
   "cell_type": "code",
   "execution_count": 16,
   "metadata": {
    "collapsed": false
   },
   "outputs": [],
   "source": [
    "df=pd.DataFrame.from_dict(d,orient='index')\n",
    "dfUK=pd.DataFrame.from_dict(dUK,orient='index')"
   ]
  },
  {
   "cell_type": "code",
   "execution_count": 17,
   "metadata": {
    "collapsed": false
   },
   "outputs": [],
   "source": [
    "df=df[df.age>0]"
   ]
  },
  {
   "cell_type": "code",
   "execution_count": 18,
   "metadata": {
    "collapsed": true
   },
   "outputs": [],
   "source": [
    "dfUK=dfUK[dfUK.age>0]"
   ]
  },
  {
   "cell_type": "markdown",
   "metadata": {
    "collapsed": false
   },
   "source": [
    "Gender Stats\n",
    "--------------"
   ]
  },
  {
   "cell_type": "code",
   "execution_count": null,
   "metadata": {
    "collapsed": false
   },
   "outputs": [],
   "source": [
    "plt.xkcd()\n",
    "df.gender.value_counts().plot(kind='bar')\n",
    "df.gender.value_counts()['M']/df.gender.value_counts()['F']"
   ]
  },
  {
   "cell_type": "code",
   "execution_count": null,
   "metadata": {
    "collapsed": false
   },
   "outputs": [],
   "source": [
    "plt.xkcd()\n",
    "dfUK.gender.value_counts().plot(kind='bar')\n",
    "dfUK.gender.value_counts()['M']/dfUK.gender.value_counts()['F']"
   ]
  },
  {
   "cell_type": "code",
   "execution_count": null,
   "metadata": {
    "collapsed": true
   },
   "outputs": [],
   "source": []
  },
  {
   "cell_type": "markdown",
   "metadata": {},
   "source": [
    "Ethnicity Stats\n",
    "---------------"
   ]
  },
  {
   "cell_type": "code",
   "execution_count": null,
   "metadata": {
    "collapsed": false
   },
   "outputs": [],
   "source": [
    "df.ethnic.value_counts()\n",
    "dfUK.ethnic.value_counts()\n"
   ]
  },
  {
   "cell_type": "code",
   "execution_count": null,
   "metadata": {
    "collapsed": false
   },
   "outputs": [],
   "source": [
    "dth=pd.DataFrame(df.groupby(['ethnic','gender']).size())\n",
    "dthUK=pd.DataFrame(dfUK.groupby(['ethnic','gender']).size())\n"
   ]
  },
  {
   "cell_type": "code",
   "execution_count": null,
   "metadata": {
    "collapsed": false
   },
   "outputs": [],
   "source": [
    "plt.xkcd()\n",
    "df.ethnic.value_counts().plot(kind='pie',figsize=(6, 6))"
   ]
  },
  {
   "cell_type": "code",
   "execution_count": null,
   "metadata": {
    "collapsed": false
   },
   "outputs": [],
   "source": [
    "plt.xkcd()\n",
    "dfUK.ethnic.value_counts().plot(kind='pie',figsize=(6, 6))"
   ]
  },
  {
   "cell_type": "markdown",
   "metadata": {
    "collapsed": false
   },
   "source": [
    "Age Stats\n",
    "---------"
   ]
  },
  {
   "cell_type": "code",
   "execution_count": null,
   "metadata": {
    "collapsed": false
   },
   "outputs": [],
   "source": [
    "plt.xkcd()\n",
    "df.age.hist(bins=[20,23,26,29, 32,35,38,41,45]).figure"
   ]
  },
  {
   "cell_type": "code",
   "execution_count": null,
   "metadata": {
    "collapsed": false
   },
   "outputs": [],
   "source": [
    "plt.xkcd()\n",
    "dfUK.age.hist(bins=[20,23,26,29, 32,35,38,41,45]).figure"
   ]
  },
  {
   "cell_type": "code",
   "execution_count": null,
   "metadata": {
    "collapsed": false
   },
   "outputs": [],
   "source": [
    "plt.xkcd()\n",
    "\n",
    "countsM,bins=np.histogram(df[df.gender=='M'].age,bins=[20,25,30,35,40,45,50,55,60,65,70])\n",
    "countsF,bins=np.histogram(df[df.gender=='F'].age)\n",
    "\n",
    "fig=plt.figure()\n",
    "ax=fig.add_subplot(111)\n",
    "\n",
    "ax.bar(bins[:-1],countsM/max(countsM),width=3)\n",
    "ax.bar(bins[:-1]+6,countsF/max(countsF),color='r',width=3)\n",
    "plt.xlabel('age')\n",
    "plt.ylabel('normalised frequency')"
   ]
  },
  {
   "cell_type": "code",
   "execution_count": null,
   "metadata": {
    "collapsed": false
   },
   "outputs": [],
   "source": []
  },
  {
   "cell_type": "code",
   "execution_count": null,
   "metadata": {
    "collapsed": false
   },
   "outputs": [],
   "source": []
  },
  {
   "cell_type": "code",
   "execution_count": null,
   "metadata": {
    "collapsed": false
   },
   "outputs": [],
   "source": [
    "plt.xkcd()\n",
    "\n",
    "countsM,bins=np.histogram(dfUK[dfUK.gender=='M'].age)\n",
    "countsF,bins=np.histogram(dfUK[dfUK.gender=='F'].age)\n",
    "\n",
    "fig=plt.figure()\n",
    "ax=fig.add_subplot(111)\n",
    "\n",
    "ax.bar(bins[:-1],countsM/max(countsM))\n",
    "ax.bar(bins[:-1]+1,countsF/max(countsF),color='r')\n",
    "plt.xlabel('age')\n",
    "plt.ylabel('normalised frequency')"
   ]
  },
  {
   "cell_type": "markdown",
   "metadata": {
    "collapsed": false
   },
   "source": [
    "Swipe Stats\n",
    "-------------"
   ]
  },
  {
   "cell_type": "code",
   "execution_count": null,
   "metadata": {
    "collapsed": false
   },
   "outputs": [],
   "source": []
  },
  {
   "cell_type": "code",
   "execution_count": null,
   "metadata": {
    "collapsed": false
   },
   "outputs": [],
   "source": []
  },
  {
   "cell_type": "code",
   "execution_count": null,
   "metadata": {
    "collapsed": false
   },
   "outputs": [],
   "source": [
    "dlikesM=pickle.load(open(data+'dlikesM.pkl','rb'))\n",
    "dlikesF=pickle.load(open(data+'dlikesF.pkl','rb'))\n"
   ]
  },
  {
   "cell_type": "code",
   "execution_count": null,
   "metadata": {
    "collapsed": true
   },
   "outputs": [],
   "source": []
  },
  {
   "cell_type": "code",
   "execution_count": null,
   "metadata": {
    "collapsed": false
   },
   "outputs": [],
   "source": [
    "plt.xkcd()\n",
    "countsM,bins=np.histogram(np.log10(list(dlikesM.values())),bins=5)\n",
    "countsF,binsF=np.histogram(np.log10(list(dlikesF.values())),bins=bins)\n",
    "\n",
    "fig=plt.figure()\n",
    "ax=fig.add_subplot(111)\n",
    "ax.bar(bins[:-1],countsM,width=0.5)\n",
    "ax.bar(bins[:-1],countsF,color='r',width=0.5)\n",
    "plt.xlabel('Logarithmic number of likes (base 10)')\n",
    "plt.ylabel('counts')"
   ]
  },
  {
   "cell_type": "code",
   "execution_count": null,
   "metadata": {
    "collapsed": false
   },
   "outputs": [],
   "source": [
    "A=np.trapz(list(dlikesM.values()),dx=1)\n",
    "y=list(dlikesM.values())\n",
    "delta=10\n",
    "l=0\n",
    "B=0\n",
    "while B<A*0.5:\n",
    "    B=np.trapz(y[0:l],dx=5)\n",
    "    l+=delta\n",
    "\n",
    "print('%s likes make up 50 percent of the area under the curve'%y[l])"
   ]
  },
  {
   "cell_type": "code",
   "execution_count": null,
   "metadata": {
    "collapsed": false
   },
   "outputs": [],
   "source": [
    "10**0.85"
   ]
  },
  {
   "cell_type": "code",
   "execution_count": null,
   "metadata": {
    "collapsed": false
   },
   "outputs": [],
   "source": [
    "A=np.trapz(list(dlikesF.values()),dx=5)\n",
    "y=list(dlikesF.values())\n",
    "delta=10\n",
    "l=0\n",
    "B=0\n",
    "while B<A*0.5:\n",
    "    B=np.trapz(y[0:l],dx=5)\n",
    "    l+=delta\n",
    "print('%s likes make up 50 percent of the area under the curve'%y[l])    "
   ]
  },
  {
   "cell_type": "markdown",
   "metadata": {},
   "source": [
    "So we keep those who like up to 900 people."
   ]
  },
  {
   "cell_type": "code",
   "execution_count": null,
   "metadata": {
    "collapsed": false
   },
   "outputs": [],
   "source": [
    "print('max Men likes %s\\n'%max(dlikesM.values()))\n",
    "print('max Women likes %s\\n'%max(dlikesF.values()))\n",
    "\n",
    "print('min Men likes %s\\n'%min(dlikesM.values()))\n",
    "print('min Women likes %s\\n'%min(dlikesF.values()))\n",
    "\n",
    "print('mean Men likes %s\\n'%np.mean(list(dlikesM.values())))\n",
    "print('mean Women likes %s\\n'%np.mean(list(dlikesF.values())))"
   ]
  },
  {
   "cell_type": "code",
   "execution_count": null,
   "metadata": {
    "collapsed": true
   },
   "outputs": [],
   "source": [
    "today='2017-04-01'\n"
   ]
  },
  {
   "cell_type": "code",
   "execution_count": null,
   "metadata": {
    "collapsed": false
   },
   "outputs": [],
   "source": [
    "#this function adds number of swipes to each user\n",
    "trim=db.trim\n",
    "dlikesMUK={}\n",
    "dlikesFUK={}\n",
    "for key in dUK.keys():\n",
    "    t=trim.find({'memberID':key},{\"who_i_liked\":1})\n",
    "    a=trim.find({'memberID':key},{\"activeSince\":1})\n",
    "    try:\n",
    "        dUK[key]['activeSince']= a[0]['activeSince']\n",
    "    except:\n",
    "        continue\n",
    "            \n",
    "    for tt in t:\n",
    "        if 'who_i_liked' in tt.keys():\n",
    "            likes=len(tt['who_i_liked' ])\n",
    "            if d[key]['gender']=='M':\n",
    "                dlikesMUK[key]=likes\n",
    "            else:\n",
    "                dlikesFUK[key]=likes\n",
    "                    \n"
   ]
  },
  {
   "cell_type": "code",
   "execution_count": null,
   "metadata": {
    "collapsed": false
   },
   "outputs": [],
   "source": []
  },
  {
   "cell_type": "code",
   "execution_count": null,
   "metadata": {
    "collapsed": false
   },
   "outputs": [],
   "source": []
  },
  {
   "cell_type": "code",
   "execution_count": null,
   "metadata": {
    "collapsed": true
   },
   "outputs": [],
   "source": [
    "pickle.dump(dlikesMUK,open(data+'dlikesMUK.pkl','wb'))\n",
    "pickle.dump(dlikesFUK,open(data+'dlikesFUK.pkl','wb'))"
   ]
  },
  {
   "cell_type": "code",
   "execution_count": null,
   "metadata": {
    "collapsed": false
   },
   "outputs": [],
   "source": [
    "plt.xkcd()\n",
    "countsM,bins=np.histogram(np.log10(list(dlikesMUK.values())),bins=5)\n",
    "countsF,binsF=np.histogram(np.log10(list(dlikesFUK.values())),bins=bins)\n",
    "\n",
    "fig=plt.figure()\n",
    "ax=fig.add_subplot(111)\n",
    "ax.bar(bins[:-1],countsM,width=0.5)\n",
    "ax.bar(bins[:-1],countsF,color='r',width=0.25)\n",
    "plt.xlabel('Logarithmic number of likes (base 10)')\n",
    "plt.ylabel('counts')"
   ]
  },
  {
   "cell_type": "code",
   "execution_count": null,
   "metadata": {
    "collapsed": false
   },
   "outputs": [],
   "source": [
    "print('max Men likes %s\\n'%max(dlikesMUK.values()))\n",
    "print('max Women likes %s\\n'%max(dlikesFUK.values()))\n",
    "\n",
    "print('min Men likes %s\\n'%min(dlikesMUK.values()))\n",
    "print('min Women likes %s\\n'%min(dlikesFUK.values()))\n",
    "\n",
    "print('mean Men likes %s\\n'%np.mean(list(dlikesMUK.values())))\n",
    "print('mean Women likes %s\\n'%np.mean(list(dlikesFUK.values())))"
   ]
  },
  {
   "cell_type": "code",
   "execution_count": null,
   "metadata": {
    "collapsed": false
   },
   "outputs": [],
   "source": [
    "bins[:-1],countsM\n",
    "\n",
    "10**2.4"
   ]
  },
  {
   "cell_type": "code",
   "execution_count": null,
   "metadata": {
    "collapsed": false
   },
   "outputs": [],
   "source": [
    "def get_age_age(d,dictM,dictF):\n",
    "    for key in d.keys():\n",
    "        t=trim.find({'memberID':key},{'who_i_liked':1})\n",
    "        for tt in t:\n",
    "            if d[key]['gender']=='M':\n",
    "                l=[]\n",
    "                if 'who_i_liked' in tt.keys():\n",
    "                    for mid in tt['who_i_liked']:\n",
    "                        if mid in d.keys(): #filtered out nonUK people and international lurve is a thing\n",
    "                            l.append(d[mid]['age'])\n",
    "                dictM[d[key]['age']]=l\n",
    "\n",
    "            if d[key]['gender']=='F':\n",
    "                if 'who_i_liked' in tt.keys():\n",
    "                    l=[]\n",
    "                    for mid in tt['who_i_liked']:\n",
    "                        if mid in d.keys():\n",
    "                            l.append(d[mid]['age'])\n",
    "                dictF[d[key]['age']]=l\n",
    "    return dictM,dictF"
   ]
  },
  {
   "cell_type": "code",
   "execution_count": null,
   "metadata": {
    "collapsed": false
   },
   "outputs": [],
   "source": [
    "#age vs age swipes for men and women\n",
    "agesM={}\n",
    "agesF={}\n",
    "agesM,agesF=get_age_age(d,agesM,agesF)\n",
    "\n"
   ]
  },
  {
   "cell_type": "code",
   "execution_count": null,
   "metadata": {
    "collapsed": true
   },
   "outputs": [],
   "source": [
    "pickle.dump(agesM,open(data+'agesM.pkl','wb'))\n",
    "pickle.dump(agesF,open(data+'agesF.pkl','wb'))"
   ]
  },
  {
   "cell_type": "code",
   "execution_count": null,
   "metadata": {
    "collapsed": true
   },
   "outputs": [],
   "source": [
    "agesM=pickle.load(open(data+'agesM.pkl','rb'))\n",
    "agesF=pickle.load(open(data+'agesF.pkl','rb'))"
   ]
  },
  {
   "cell_type": "code",
   "execution_count": null,
   "metadata": {
    "collapsed": false
   },
   "outputs": [],
   "source": [
    "agesMUK={}\n",
    "agesFUK={}\n",
    "agesMUK,agesFUK=get_age_age(dUK,agesMUK,agesFUK)"
   ]
  },
  {
   "cell_type": "code",
   "execution_count": null,
   "metadata": {
    "collapsed": true
   },
   "outputs": [],
   "source": [
    "pickle.dump(agesMUK,open(data+'agesMUK.pkl','wb'))\n",
    "pickle.dump(agesFUK,open(data+'agesFUK.pkl','wb'))"
   ]
  },
  {
   "cell_type": "code",
   "execution_count": null,
   "metadata": {
    "collapsed": false
   },
   "outputs": [],
   "source": [
    "def get_trends(d,dict1):\n",
    "    for age in dict1.keys():\n",
    "        ageMean=np.mean(dict1[age])\n",
    "        ageSdev=np.std(dict1[age])\n",
    "        z=Counter()\n",
    "        for a in dict1[age]:\n",
    "            z[a]+=1\n",
    "        d[age]={}\n",
    "        d[age]['stats']=(ageMean,ageSdev)\n",
    "        d[age]['counts']=z\n",
    "    return d"
   ]
  },
  {
   "cell_type": "code",
   "execution_count": null,
   "metadata": {
    "collapsed": true
   },
   "outputs": [],
   "source": [
    "agesMUK=pickle.load(open(data+'agesMUK.pkl','rb'))\n",
    "agesFUK=pickle.load(open(data+'agesFUK.pkl','rb'))"
   ]
  },
  {
   "cell_type": "code",
   "execution_count": null,
   "metadata": {
    "collapsed": false
   },
   "outputs": [],
   "source": [
    "agesTrendF={}\n",
    "agesTrendF=get_trends(agesTrendF,agesF)\n",
    "agesTrendM={}\n",
    "agesTrendM=get_trends(agesTrendM,agesM)\n",
    "\n",
    "agesTrendFUK={}\n",
    "agesTrendFUK=get_trends(agesTrendFUK,agesFUK)\n",
    "agesTrendMUK={}\n",
    "agesTrendMUK=get_trends(agesTrendMUK,agesMUK)\n",
    "\n",
    "    "
   ]
  },
  {
   "cell_type": "code",
   "execution_count": null,
   "metadata": {
    "collapsed": true
   },
   "outputs": [],
   "source": [
    "pickle.dump(agesTrendM,open(data+'agesTrendM.pkl','wb'))\n",
    "pickle.dump(agesTrendF,open(data+'agesFTrend.pkl','wb'))\n",
    "\n",
    "pickle.dump(agesTrendMUK,open(data+'agesTrendMUK.pkl','wb'))\n",
    "pickle.dump(agesTrendFUK,open(data+'agesFTrendUK.pkl','wb'))"
   ]
  },
  {
   "cell_type": "code",
   "execution_count": null,
   "metadata": {
    "collapsed": true
   },
   "outputs": [],
   "source": [
    "def plt_scatter(d):\n",
    "    plt.xkcd()\n",
    "    for age in d.keys():\n",
    "        if age>0 and age<60:\n",
    "            y=list(d[age]['counts'].keys())\n",
    "            y=[yy for yy in y if yy>0 and yy<60]\n",
    "            s=list(d[age]['counts'].values())\n",
    "            plt.scatter([age]*len(y),y,s=s)\n",
    "        \n",
    "def plt_trend(d):\n",
    "    x=[]\n",
    "    m=[]\n",
    "    mp=[]\n",
    "    mm=[]\n",
    "\n",
    "    for age in d.keys():\n",
    "        if age>20 and age<60:\n",
    "            x.append(age)\n",
    "            m.append(d[age]['stats'][0])\n",
    "            mp.append(d[age]['stats'][0]+d[age]['stats'][1])\n",
    "            mm.append(d[age]['stats'][0]-d[age]['stats'][1])\n",
    "    s,b = np.polyfit(x, m, 1)\n",
    "    plt.plot(x,[s*float(c)+b for c in x],'r')\n",
    "    s,b = np.polyfit(x, mp, 1)\n",
    "    plt.plot(x,[s*float(c)+b for c in x],'r--')\n",
    "    s,b = np.polyfit(x, mm, 1)\n",
    "    plt.plot(x,[s*float(c)+b for c in x],'r--')\n",
    "\n",
    "    print('slope is %s with an intercept of %s'%(s,b))"
   ]
  },
  {
   "cell_type": "code",
   "execution_count": null,
   "metadata": {
    "collapsed": false
   },
   "outputs": [],
   "source": []
  },
  {
   "cell_type": "code",
   "execution_count": null,
   "metadata": {
    "collapsed": false
   },
   "outputs": [],
   "source": [
    "plt_scatter(agesTrendF)\n",
    "plt_trend(agesTrendF)\n",
    "plt.xlabel('Female Age')\n",
    "plt.ylabel('Male Age')\n",
    "plt.axis([20,60,20,60])\n",
    "\n",
    "\n"
   ]
  },
  {
   "cell_type": "code",
   "execution_count": null,
   "metadata": {
    "collapsed": false
   },
   "outputs": [],
   "source": [
    "plt_scatter(agesTrendM)\n",
    "plt_trend(agesTrendM)\n",
    "plt.ylabel('Female Age')\n",
    "plt.xlabel('Male Age')\n",
    "plt.axis([20,60,20,60])\n",
    "\n",
    "\n",
    "\n",
    "    "
   ]
  },
  {
   "cell_type": "code",
   "execution_count": null,
   "metadata": {
    "collapsed": false
   },
   "outputs": [],
   "source": [
    "plt_scatter(agesTrendMUK)\n",
    "plt_trend(agesTrendMUK)\n",
    "plt.ylabel('Female Age')\n",
    "plt.xlabel('Male Age')\n",
    "plt.axis([20,60,20,60])\n"
   ]
  },
  {
   "cell_type": "code",
   "execution_count": null,
   "metadata": {
    "collapsed": false
   },
   "outputs": [],
   "source": [
    "plt_scatter(agesTrendFUK)\n",
    "plt_trend(agesTrendFUK)\n",
    "plt.xlabel('Female Age')\n",
    "plt.ylabel('Male Age')\n",
    "plt.axis([20,60,20,60])\n",
    "\n"
   ]
  },
  {
   "cell_type": "code",
   "execution_count": null,
   "metadata": {
    "collapsed": false
   },
   "outputs": [],
   "source": [
    "d2=pickle.load(open(data+'d2.pkl','rb'))\n",
    "bad_keys=[]\n",
    "for key in d2.keys():\n",
    "    if d2[key]['activeSince']==0:\n",
    "        bad_keys.append(key)"
   ]
  },
  {
   "cell_type": "code",
   "execution_count": null,
   "metadata": {
    "collapsed": false
   },
   "outputs": [],
   "source": [
    "trim=db.trim\n",
    "for key in bad_keys:\n",
    "    t=trim.find({'memberID':key},{\"activeSince\":1})\n",
    "    try:\n",
    "        d2[key]['activeSince']=t[0]['activeSince']\n",
    "    except:\n",
    "        d2[key]['activeSince']=0\n",
    "    \n",
    "    "
   ]
  },
  {
   "cell_type": "code",
   "execution_count": null,
   "metadata": {
    "collapsed": false
   },
   "outputs": [],
   "source": [
    "bad_keys=[]\n",
    "for key in d2.keys():\n",
    "    if d2[key]['activeSince']==0:\n",
    "        bad_keys.append(key)\n",
    "        \n",
    "len(bad_keys)"
   ]
  },
  {
   "cell_type": "code",
   "execution_count": null,
   "metadata": {
    "collapsed": false
   },
   "outputs": [],
   "source": []
  },
  {
   "cell_type": "code",
   "execution_count": null,
   "metadata": {
    "collapsed": false
   },
   "outputs": [],
   "source": [
    "today=datetime.strptime('2017-04-28','%Y-%m-%d')\n",
    "dUK2={}\n",
    "for key in dUK.keys():\n",
    "    if key in d2.keys() and 'activeSince' in d2[key].keys():\n",
    "        a=d2[key]['activeSince']\n",
    "        if a==0:\n",
    "            a=today\n",
    "        else:\n",
    "            a=datetime.strptime(a,'%Y-%m-%d')\n",
    "        a=(today-a).days\n",
    "        if a==0:\n",
    "            a=0\n",
    "        dUK2[key]=dUK[key]\n",
    "        dUK2[key]['daysActive']=a"
   ]
  },
  {
   "cell_type": "code",
   "execution_count": null,
   "metadata": {
    "collapsed": false
   },
   "outputs": [],
   "source": [
    "pickle.dump(dUK2,open(data+'dUK2.pkl','wb'))"
   ]
  },
  {
   "cell_type": "markdown",
   "metadata": {},
   "source": [
    "NLP Magic\n",
    "====="
   ]
  },
  {
   "cell_type": "code",
   "execution_count": null,
   "metadata": {
    "collapsed": false
   },
   "outputs": [],
   "source": [
    "pUK=pickle.load(open(data+'pUK.pkl','rb'))"
   ]
  },
  {
   "cell_type": "code",
   "execution_count": null,
   "metadata": {
    "collapsed": false
   },
   "outputs": [],
   "source": [
    "#len(pUK.ix['100024']['real'])\n",
    "#dUK['100024']['SM']\n",
    "pUK"
   ]
  },
  {
   "cell_type": "code",
   "execution_count": null,
   "metadata": {
    "collapsed": true
   },
   "outputs": [],
   "source": [
    "def get_len(sm):\n",
    "    if sm is not None:\n",
    "        return len(sm)\n",
    "    else:\n",
    "        return 0"
   ]
  },
  {
   "cell_type": "code",
   "execution_count": null,
   "metadata": {
    "collapsed": false
   },
   "outputs": [],
   "source": [
    "pUK['SMlen']=pd.Series(np.random.randn(len(pUK)), index=pUK.index)\n",
    "pUK['SMlen']=pUK['SM'].apply(get_len)\n",
    "\n",
    "pUK['LDlen']=pd.Series(np.random.randn(len(pUK)), index=pUK.index)\n",
    "pUK['LDlen']=pUK['LD'].apply(get_len)"
   ]
  },
  {
   "cell_type": "code",
   "execution_count": null,
   "metadata": {
    "collapsed": true
   },
   "outputs": [],
   "source": [
    "dreal=pickle.load(open(data+'dreal.pkl','rb'))"
   ]
  },
  {
   "cell_type": "code",
   "execution_count": null,
   "metadata": {
    "collapsed": false
   },
   "outputs": [],
   "source": []
  },
  {
   "cell_type": "code",
   "execution_count": null,
   "metadata": {
    "collapsed": true
   },
   "outputs": [],
   "source": [
    "def get_reals(d):\n",
    "    return dreal[d]['realLikes']"
   ]
  },
  {
   "cell_type": "code",
   "execution_count": null,
   "metadata": {
    "collapsed": false
   },
   "outputs": [],
   "source": [
    "pUK['real']=pd.Series(np.random.randn(len(pUK)), index=pUK.index)\n",
    "pUK['real']=pUK.index.map(get_reals)\n"
   ]
  },
  {
   "cell_type": "code",
   "execution_count": null,
   "metadata": {
    "collapsed": true
   },
   "outputs": [],
   "source": [
    "def real_len(d):\n",
    "    if d==0:\n",
    "        return 0\n",
    "    else:\n",
    "        return len(d)"
   ]
  },
  {
   "cell_type": "code",
   "execution_count": null,
   "metadata": {
    "collapsed": false
   },
   "outputs": [],
   "source": [
    "pUK['realLen']=pd.Series(np.random.randn(len(pUK)), index=pUK.index)\n",
    "pUK['realLen']=pUK['real'].apply(real_len)\n"
   ]
  },
  {
   "cell_type": "code",
   "execution_count": null,
   "metadata": {
    "collapsed": false
   },
   "outputs": [],
   "source": [
    "max(pUK['realLen'])"
   ]
  },
  {
   "cell_type": "code",
   "execution_count": null,
   "metadata": {
    "collapsed": false
   },
   "outputs": [],
   "source": [
    "pUK['SM'][pUK['SM'].isnull()]='XXXXMONKEYSXXXX'"
   ]
  },
  {
   "cell_type": "code",
   "execution_count": null,
   "metadata": {
    "collapsed": false
   },
   "outputs": [],
   "source": [
    "pUK['LD'][pUK['LD'].isnull()]='XXXXMONKEYSXXXX'"
   ]
  },
  {
   "cell_type": "code",
   "execution_count": null,
   "metadata": {
    "collapsed": false
   },
   "outputs": [],
   "source": [
    "tf = TfidfVectorizer(analyzer='word', min_df=0, stop_words='english',max_features=50)\n",
    "tfLD = TfidfVectorizer(analyzer='word', min_df=0, stop_words='english',max_features=500)\n",
    "\n",
    "\n",
    "\n",
    "tfidf_SMUK = tf.fit_transform(pUK['SM'])\n",
    "tfidf_LDUK = tfLD.fit_transform(pUK['LD'])"
   ]
  },
  {
   "cell_type": "code",
   "execution_count": null,
   "metadata": {
    "collapsed": false
   },
   "outputs": [],
   "source": [
    "feature_names = tf.get_feature_names()\n",
    "\n",
    "i = 0\n",
    "top_words = {}\n",
    "max_words=1\n",
    "for row in tfidf_SMUK.todense():\n",
    "    task = row.tolist()[0]\n",
    "    top_words[i] = [feature_names[n] for n in list(range(0, len(task))) if task[n] != 0]\n",
    "\n",
    "    i += 1\n",
    "top_SM=top_words\n",
    "\n",
    "top_SMList=list(set([l for b in list(top_SM.values()) for l in b]))\n",
    "\n",
    "feature_names = tfLD.get_feature_names()\n",
    "\n",
    "\n",
    "i = 0\n",
    "top_words = {}\n",
    "max_words=10\n",
    "for row in tfidf_LDUK.todense():\n",
    "    task = row.tolist()[0]\n",
    "    top_words[i] = [feature_names[n] for n in list(range(0, len(task))) if task[n] != 0]\n",
    "\n",
    "    i += 1\n",
    "top_LD=top_words\n",
    "top_LDList=list(set([l for b in list(top_LD.values()) for l in b]))\n",
    "\n"
   ]
  },
  {
   "cell_type": "code",
   "execution_count": null,
   "metadata": {
    "collapsed": false
   },
   "outputs": [],
   "source": [
    "top_SM=top_SMList\n",
    "top_LD=top_LDList"
   ]
  },
  {
   "cell_type": "code",
   "execution_count": null,
   "metadata": {
    "collapsed": false
   },
   "outputs": [],
   "source": []
  },
  {
   "cell_type": "code",
   "execution_count": null,
   "metadata": {
    "collapsed": false
   },
   "outputs": [],
   "source": []
  },
  {
   "cell_type": "code",
   "execution_count": null,
   "metadata": {
    "collapsed": true
   },
   "outputs": [],
   "source": [
    "from wordcloud import WordCloud"
   ]
  },
  {
   "cell_type": "code",
   "execution_count": null,
   "metadata": {
    "collapsed": false
   },
   "outputs": [],
   "source": [
    "wordcloud = WordCloud().generate(' '.join(smt))\n",
    "plt.imshow(wordcloud, interpolation='bilinear')\n",
    "plt.axis(\"off\")"
   ]
  },
  {
   "cell_type": "code",
   "execution_count": null,
   "metadata": {
    "collapsed": false
   },
   "outputs": [],
   "source": [
    "wordcloud = WordCloud().generate(' '.join(ldt))\n",
    "plt.imshow(wordcloud, interpolation='bilinear')\n",
    "plt.axis(\"off\")"
   ]
  },
  {
   "cell_type": "code",
   "execution_count": null,
   "metadata": {
    "collapsed": false
   },
   "outputs": [],
   "source": [
    "dlikesM=pickle.load(open(data+'dlikesM.pkl','rb'))\n",
    "dlikesF=pickle.load(open(data+'dlikesF.pkl','rb'))"
   ]
  },
  {
   "cell_type": "code",
   "execution_count": null,
   "metadata": {
    "collapsed": false
   },
   "outputs": [],
   "source": [
    "dlikes={**dlikesM,**dlikesF}"
   ]
  },
  {
   "cell_type": "code",
   "execution_count": null,
   "metadata": {
    "collapsed": false
   },
   "outputs": [],
   "source": [
    "pUK['likes']=pd.Series(np.random.randn(len(pUK)), index=pUK.index)"
   ]
  },
  {
   "cell_type": "code",
   "execution_count": null,
   "metadata": {
    "collapsed": true
   },
   "outputs": [],
   "source": [
    "def get_active_since(mid):\n",
    "    if 'daysActive' in dUK2[mid].keys():\n",
    "        return dUK2[mid]['daysActive']\n",
    "    else:\n",
    "        return 0"
   ]
  },
  {
   "cell_type": "code",
   "execution_count": null,
   "metadata": {
    "collapsed": false
   },
   "outputs": [],
   "source": [
    "pUK['activeSince']=pd.Series(np.random.randn(len(pUK)), index=pUK.index)\n",
    "pUK['activeSince']=pUK.index.map(get_active_since)"
   ]
  },
  {
   "cell_type": "code",
   "execution_count": null,
   "metadata": {
    "collapsed": false
   },
   "outputs": [],
   "source": [
    "pUK=pUK[pUK['activeSince']!=0]"
   ]
  },
  {
   "cell_type": "code",
   "execution_count": null,
   "metadata": {
    "collapsed": false
   },
   "outputs": [],
   "source": []
  },
  {
   "cell_type": "code",
   "execution_count": null,
   "metadata": {
    "collapsed": false
   },
   "outputs": [],
   "source": [
    "\n"
   ]
  },
  {
   "cell_type": "code",
   "execution_count": null,
   "metadata": {
    "collapsed": false
   },
   "outputs": [],
   "source": [
    "def add_likes(mid):\n",
    "    if mid in dlikes.keys():\n",
    "        return dlikes[mid]\n",
    "    else:\n",
    "        return 0"
   ]
  },
  {
   "cell_type": "code",
   "execution_count": null,
   "metadata": {
    "collapsed": false
   },
   "outputs": [],
   "source": [
    "pUK['likes']=pUK.index.map(add_likes)"
   ]
  },
  {
   "cell_type": "code",
   "execution_count": null,
   "metadata": {
    "collapsed": false
   },
   "outputs": [],
   "source": [
    "def filter_top(t):\n",
    "    words=[]\n",
    "    if len(t)>0:\n",
    "        tt=t.split(' ')\n",
    "\n",
    "       \n",
    "        for ttt in tt:\n",
    "            if ttt in top_SM:\n",
    "                words.append(ttt)\n",
    "        return words\n",
    "def filter_topLD(t):\n",
    "    words=[]\n",
    "    if len(t)>0:\n",
    "        tt=t.split(' ')\n",
    "\n",
    "       \n",
    "        for ttt in tt:\n",
    "            if ttt in top_LD:\n",
    "                words.append(ttt)\n",
    "        return words"
   ]
  },
  {
   "cell_type": "code",
   "execution_count": null,
   "metadata": {
    "collapsed": false
   },
   "outputs": [],
   "source": [
    "c,b=np.histogram(pUK['activeSince'])\n",
    "plt.plot(b[:-1],c)\n",
    "plt.xlabel('Days Active')\n",
    "plt.ylabel('Counts')"
   ]
  },
  {
   "cell_type": "code",
   "execution_count": null,
   "metadata": {
    "collapsed": false
   },
   "outputs": [],
   "source": [
    "c,p=np.histogram(pUK['realLen'][(pUK['activeSince']<500)])\n",
    "plt.plot(b[:-1],c)\n",
    "plt.xlabel('Number of Likes')\n",
    "plt.ylabel('Counts')"
   ]
  },
  {
   "cell_type": "code",
   "execution_count": null,
   "metadata": {
    "collapsed": false
   },
   "outputs": [],
   "source": [
    "c,p=np.histogram(pUK['likes'][(pUK['activeSince']<500)])\n",
    "plt.plot(b[:-1],c)\n",
    "plt.xlabel('Number of Likes')\n",
    "plt.ylabel('Counts')"
   ]
  },
  {
   "cell_type": "code",
   "execution_count": null,
   "metadata": {
    "collapsed": false
   },
   "outputs": [],
   "source": []
  },
  {
   "cell_type": "code",
   "execution_count": null,
   "metadata": {
    "collapsed": false
   },
   "outputs": [],
   "source": [
    "len(pUK[pUK['realLen']<200])"
   ]
  },
  {
   "cell_type": "code",
   "execution_count": null,
   "metadata": {
    "collapsed": false
   },
   "outputs": [],
   "source": []
  },
  {
   "cell_type": "code",
   "execution_count": null,
   "metadata": {
    "collapsed": false
   },
   "outputs": [],
   "source": [
    "pUK['SM']=pUK['SM'].apply(filter_top)\n",
    "pUK['LD']=pUK['LD'].apply(filter_topLD)"
   ]
  },
  {
   "cell_type": "code",
   "execution_count": null,
   "metadata": {
    "collapsed": false
   },
   "outputs": [],
   "source": [
    "pUK.to_pickle(data+'pUK2.pkl')"
   ]
  },
  {
   "cell_type": "code",
   "execution_count": null,
   "metadata": {
    "collapsed": false
   },
   "outputs": [],
   "source": [
    "pop=G.data('match ()-[r]->(n) return n.mid as mid,count(r) as num')"
   ]
  },
  {
   "cell_type": "code",
   "execution_count": null,
   "metadata": {
    "collapsed": false
   },
   "outputs": [],
   "source": [
    "pops={}\n",
    "for item in pop:\n",
    "    pops[item['mid']]=item['num']"
   ]
  },
  {
   "cell_type": "code",
   "execution_count": null,
   "metadata": {
    "collapsed": true
   },
   "outputs": [],
   "source": [
    "def get_pop(p):\n",
    "    if p in pops.keys():\n",
    "        return pops[p]\n",
    "    else:\n",
    "        return 0"
   ]
  },
  {
   "cell_type": "code",
   "execution_count": null,
   "metadata": {
    "collapsed": false
   },
   "outputs": [],
   "source": [
    "pUK['pop']=pd.Series(np.random.randn(len(pUK)), index=pUK.index)\n",
    "pUK['pop']=pUK.index.map(get_pop)\n",
    "pUK['popNorm']=round(pUK['pop']/pUK['activeSince'])"
   ]
  },
  {
   "cell_type": "code",
   "execution_count": null,
   "metadata": {
    "collapsed": false
   },
   "outputs": [],
   "source": [
    "pUK.to_pickle(data+'pUK2.pkl')"
   ]
  },
  {
   "cell_type": "code",
   "execution_count": null,
   "metadata": {
    "collapsed": false
   },
   "outputs": [],
   "source": [
    "counts,bins=np.histogram(pUK['pop'],bins=[50,100,150,200,250,300,350,400,450,500,550])\n",
    "pcounts=counts/sum(counts)*100\n",
    "min_likes=100"
   ]
  },
  {
   "cell_type": "code",
   "execution_count": null,
   "metadata": {
    "collapsed": false
   },
   "outputs": [],
   "source": [
    "countsPop,binsPop=np.histogram(pUK['popNorm'])\n",
    "plt.plot(binsPop[:-1],countsPop)\n"
   ]
  },
  {
   "cell_type": "code",
   "execution_count": null,
   "metadata": {
    "collapsed": false
   },
   "outputs": [],
   "source": [
    "np.std(pUK['popNorm'][pUK['gender']=='M'])+np.sqrt(np.mean(pUK['popNorm'][pUK['gender']=='M']))\n",
    "\n"
   ]
  },
  {
   "cell_type": "code",
   "execution_count": null,
   "metadata": {
    "collapsed": false
   },
   "outputs": [],
   "source": [
    "np.std(pUK['popNorm'][pUK['gender']=='F'])+np.sqrt(np.mean(pUK['popNorm'][pUK['gender']=='F']))"
   ]
  },
  {
   "cell_type": "code",
   "execution_count": null,
   "metadata": {
    "collapsed": true
   },
   "outputs": [],
   "source": [
    "def get_target(p):\n",
    "    gender=p['gender']\n",
    "    pop=p['popNorm']\n",
    "    if gender=='M' and pop>9:\n",
    "        return 1\n",
    "    elif gender=='F' and pop>80:\n",
    "        return 1\n",
    "    else:\n",
    "        return 0"
   ]
  },
  {
   "cell_type": "code",
   "execution_count": null,
   "metadata": {
    "collapsed": false
   },
   "outputs": [],
   "source": [
    "pUK['target']=pd.Series(np.random.randn(len(pUK)), index=pUK.index)\n",
    "pUK['target']=pUK.apply(get_target,axis=1)"
   ]
  },
  {
   "cell_type": "code",
   "execution_count": null,
   "metadata": {
    "collapsed": false
   },
   "outputs": [],
   "source": []
  },
  {
   "cell_type": "code",
   "execution_count": null,
   "metadata": {
    "collapsed": false
   },
   "outputs": [],
   "source": []
  },
  {
   "cell_type": "code",
   "execution_count": null,
   "metadata": {
    "collapsed": false
   },
   "outputs": [],
   "source": [
    "np.mean(pUK['popNorm'][pUK['gender']=='F'])"
   ]
  },
  {
   "cell_type": "code",
   "execution_count": null,
   "metadata": {
    "collapsed": false
   },
   "outputs": [],
   "source": [
    "def concat_SM(sm):\n",
    "    new_sm=[]\n",
    "    if sm is not None:\n",
    "        if len(sm)!=0:\n",
    "            for t in sm:\n",
    "                new_sm.append('SM_'+t)\n",
    "    return new_sm\n",
    "def concat_LD(sm):\n",
    "    new_sm=[]\n",
    "    if sm is not None:\n",
    "        if len(sm)!=0:\n",
    "            for t in sm:\n",
    "                new_sm.append('LD_'+t)\n",
    "    return new_sm\n",
    "                "
   ]
  },
  {
   "cell_type": "code",
   "execution_count": null,
   "metadata": {
    "collapsed": false
   },
   "outputs": [],
   "source": [
    "pUK['SM']=pUK['SM'].apply(concat_SM)"
   ]
  },
  {
   "cell_type": "code",
   "execution_count": null,
   "metadata": {
    "collapsed": false
   },
   "outputs": [],
   "source": [
    "pUK['LD']=pUK['LD'].apply(concat_LD)"
   ]
  },
  {
   "cell_type": "code",
   "execution_count": null,
   "metadata": {
    "collapsed": false
   },
   "outputs": [],
   "source": [
    "\n"
   ]
  },
  {
   "cell_type": "code",
   "execution_count": null,
   "metadata": {
    "collapsed": false
   },
   "outputs": [],
   "source": []
  },
  {
   "cell_type": "code",
   "execution_count": null,
   "metadata": {
    "collapsed": false
   },
   "outputs": [],
   "source": [
    "\n"
   ]
  },
  {
   "cell_type": "code",
   "execution_count": null,
   "metadata": {
    "collapsed": false
   },
   "outputs": [],
   "source": [
    "colSM=pUK['SM'].str.join('|').str.get_dummies()\n",
    "colLD=pUK['LD'].str.join('|').str.get_dummies()\n",
    "colEth=pUK['ethnic'].str.get_dummies()\n",
    "countAge,binsAge=np.histogram(pUK['age'],bins=[20,25,30,35,40,45])\n",
    "countSM,binsSM=np.histogram(pUK['SMlen'],bins=20)\n",
    "countLD,binsLD=np.histogram(pUK['LDlen'],bins=20)\n"
   ]
  },
  {
   "cell_type": "code",
   "execution_count": null,
   "metadata": {
    "collapsed": true
   },
   "outputs": [],
   "source": [
    "countlikes,binslikes=np.histogram(pUK['likes'])\n"
   ]
  },
  {
   "cell_type": "code",
   "execution_count": null,
   "metadata": {
    "collapsed": true
   },
   "outputs": [],
   "source": [
    "colgender=pUK['gender'].str.get_dummies()"
   ]
  },
  {
   "cell_type": "code",
   "execution_count": null,
   "metadata": {
    "collapsed": false
   },
   "outputs": [],
   "source": [
    "def get_bin(data,bins):\n",
    "    for b in bins:\n",
    "        if data<b:\n",
    "            return round(b)"
   ]
  },
  {
   "cell_type": "code",
   "execution_count": null,
   "metadata": {
    "collapsed": false
   },
   "outputs": [],
   "source": [
    "pUK['age']=pUK['age'].apply(get_bin,args=(binsAge,))"
   ]
  },
  {
   "cell_type": "code",
   "execution_count": null,
   "metadata": {
    "collapsed": false
   },
   "outputs": [],
   "source": [
    "pUK['SMlen']=pUK['SMlen'].apply(get_bin,args=(binsSM,))"
   ]
  },
  {
   "cell_type": "code",
   "execution_count": null,
   "metadata": {
    "collapsed": true
   },
   "outputs": [],
   "source": [
    "pUK['LDlen']=pUK['LDlen'].apply(get_bin,args=(binsLD,))"
   ]
  },
  {
   "cell_type": "code",
   "execution_count": null,
   "metadata": {
    "collapsed": true
   },
   "outputs": [],
   "source": [
    "pUK['likes']=pUK['likes'].apply(get_bin,args=(binslikes,))"
   ]
  },
  {
   "cell_type": "code",
   "execution_count": null,
   "metadata": {
    "collapsed": false
   },
   "outputs": [],
   "source": [
    "pUK['age']=pUK['age'].map(str)"
   ]
  },
  {
   "cell_type": "code",
   "execution_count": null,
   "metadata": {
    "collapsed": true
   },
   "outputs": [],
   "source": [
    "def append_string(sm,st):\n",
    "    return st+sm"
   ]
  },
  {
   "cell_type": "code",
   "execution_count": null,
   "metadata": {
    "collapsed": false
   },
   "outputs": [],
   "source": [
    "colage=pUK['age'].str.get_dummies()\n",
    "colage.columns=['age_'+a for a in colage.columns]\n"
   ]
  },
  {
   "cell_type": "code",
   "execution_count": null,
   "metadata": {
    "collapsed": false
   },
   "outputs": [],
   "source": []
  },
  {
   "cell_type": "code",
   "execution_count": null,
   "metadata": {
    "collapsed": true
   },
   "outputs": [],
   "source": [
    "pUK['SMlen']=pUK['SMlen'].map(str)\n",
    "colSMlen=pUK['SMlen'].str.get_dummies()\n",
    "colSMlen.columns=['smLen_'+ l for l in colSMlen.columns]"
   ]
  },
  {
   "cell_type": "code",
   "execution_count": null,
   "metadata": {
    "collapsed": true
   },
   "outputs": [],
   "source": [
    "pUK['LDlen']=pUK['LDlen'].map(str)\n",
    "colLDlen=pUK['LDlen'].str.get_dummies()\n",
    "colLDlen.columns=['ldLen_'+l for l in colLDlen.columns]"
   ]
  },
  {
   "cell_type": "code",
   "execution_count": null,
   "metadata": {
    "collapsed": true
   },
   "outputs": [],
   "source": [
    "pUK['likes']=pUK['likes'].map(str)\n",
    "colLikes=pUK['likes'].str.get_dummies()\n",
    "colLikes.columns=['likes_'+l for l in colLikes.columns]"
   ]
  },
  {
   "cell_type": "code",
   "execution_count": null,
   "metadata": {
    "collapsed": false
   },
   "outputs": [],
   "source": [
    "pUK['activeSince']=pUK['activeSince'].map(str)\n",
    "colActive=pUK['activeSince'].str.get_dummies()\n",
    "colActive.columns=['ActiveDays_'+l for l in colActive.columns]"
   ]
  },
  {
   "cell_type": "code",
   "execution_count": null,
   "metadata": {
    "collapsed": false
   },
   "outputs": [],
   "source": [
    "pUKM=pUK[pUK['gender']=='F']\n",
    "colSMM=colSM.ix[[i for i in colSM.index if i in pUKM.index]]\n",
    "colLDM=colLD.ix[[i for i in colLD.index if i in pUKM.index]]\n",
    "colEthM=colEth.ix[[i for i in colEth.index if i in pUKM.index]]\n",
    "colgenderM=colgender.ix[[i for i in colgender.index if i in pUKM.index]]\n",
    "colLikesM=colLikes.ix[[i for i in colLikes.index if i in pUKM.index]]\n",
    "colLDlenM=colLDlen.ix[[i for i in colLDlen.index if i in pUKM.index]]\n",
    "colSMlenM=colSMlen.ix[[i for i in colSMlen.index if i in pUKM.index]]\n",
    "colageM=colage.ix[[i for i in colage.index if i in pUKM.index]]\n",
    "colActiveM=colActive.ix[[i for i in colActive.index if i in pUKM.index]]\n"
   ]
  },
  {
   "cell_type": "code",
   "execution_count": null,
   "metadata": {
    "collapsed": false
   },
   "outputs": [],
   "source": [
    "pML=pd.concat([colActiveM,colEthM,colageM,colSMlenM,colLDlenM],axis=1)"
   ]
  },
  {
   "cell_type": "code",
   "execution_count": null,
   "metadata": {
    "collapsed": false
   },
   "outputs": [],
   "source": [
    "colActiveM"
   ]
  },
  {
   "cell_type": "markdown",
   "metadata": {},
   "source": [
    "Machine Learning Baby!\n",
    "============"
   ]
  },
  {
   "cell_type": "code",
   "execution_count": null,
   "metadata": {
    "collapsed": false
   },
   "outputs": [],
   "source": [
    "from sklearn.metrics import roc_curve, auc\n",
    "import pandas as pd\n",
    "from sklearn_pandas import DataFrameMapper, cross_val_score\n",
    "import sklearn\n",
    "from sklearn import linear_model\n",
    "from sklearn.ensemble import RandomForestClassifier\n",
    "\n",
    "from sklearn.model_selection import train_test_split\n",
    "import numpy as np\n",
    "import matplotlib.pyplot as plt\n",
    "from sklearn.cross_validation import StratifiedKFold\n",
    "from scipy import interp\n",
    "#model=linear_model.LogisticRegression()\n",
    "model=RandomForestClassifier(n_jobs=-1,max_depth=5,random_state=42,n_estimators=500,max_features = \"auto\", min_samples_leaf = 50,oob_score=True)"
   ]
  },
  {
   "cell_type": "code",
   "execution_count": null,
   "metadata": {
    "collapsed": false
   },
   "outputs": [],
   "source": [
    "pML=pML.reset_index()\n",
    "pML=pML.drop('index',axis=1)"
   ]
  },
  {
   "cell_type": "code",
   "execution_count": null,
   "metadata": {
    "collapsed": false
   },
   "outputs": [],
   "source": [
    "cv = StratifiedKFold(np.array(pUK.target[pUK['gender']=='F']), n_folds=6)\n",
    "y=np.array(pUK.target)\n",
    "X=pML"
   ]
  },
  {
   "cell_type": "code",
   "execution_count": null,
   "metadata": {
    "collapsed": false
   },
   "outputs": [],
   "source": [
    "from sklearn.metrics import roc_auc_score\n",
    "\n",
    "mean_tpr = 0.0\n",
    "mean_fpr = np.linspace(0, 1, 100)\n",
    "all_tpr = []\n",
    "for i, (train, test) in enumerate(cv):\n",
    "    probas_ = model.fit(X.ix[list(train)], y[train]).predict_proba(X.ix[list(test)])\n",
    "    # Compute ROC curve and area the curve\n",
    "   \n",
    "    fpr, tpr, thresholds = roc_curve(y[test], probas_[:, 1])\n",
    "    mean_tpr += interp(mean_fpr, fpr, tpr)\n",
    "    mean_tpr[0] = 0.0\n",
    "    roc_auc = auc(fpr, tpr)\n",
    "    \n",
    "    plt.plot(fpr, tpr, lw=1, label='ROC fold %d (area = %0.2f)' % (i, roc_auc))\n",
    "\n",
    "plt.plot([0, 1], [0, 1], '--', color=(0.6, 0.6, 0.6), label='Luck')\n",
    "mean_tpr /= len(cv)\n",
    "mean_tpr[-1] = 1.0\n",
    "mean_auc = auc(mean_fpr, mean_tpr)\n",
    "plt.plot(mean_fpr, mean_tpr, 'k--',\n",
    "         label='Mean ROC (area = %0.2f)' % mean_auc, lw=2)\n",
    "\n",
    "plt.xlim([-0.05, 1.05])\n",
    "plt.ylim([-0.05, 1.05])\n",
    "plt.xlabel('False Positive Rate')\n",
    "plt.ylabel('True Positive Rate')\n",
    "plt.title('ROC')\n",
    "#plt.legend(loc=\"right\")\n",
    "plt.show()"
   ]
  },
  {
   "cell_type": "code",
   "execution_count": null,
   "metadata": {
    "collapsed": false
   },
   "outputs": [],
   "source": [
    "importances=model.feature_importances_\n",
    "indices = np.argsort(importances)[::-1]\n",
    "names=pML.columns\n"
   ]
  },
  {
   "cell_type": "code",
   "execution_count": null,
   "metadata": {
    "collapsed": false
   },
   "outputs": [],
   "source": []
  },
  {
   "cell_type": "code",
   "execution_count": null,
   "metadata": {
    "collapsed": false
   },
   "outputs": [],
   "source": [
    "for f in range(X.shape[1]):\n",
    "    print(\"%d. feature %s (%f)\" % (f + 1, names[indices[f]], importances[indices[f]]))"
   ]
  },
  {
   "cell_type": "code",
   "execution_count": null,
   "metadata": {
    "collapsed": false
   },
   "outputs": [],
   "source": [
    "pUK.sort(columns=['popNorm'],ascending=False)"
   ]
  },
  {
   "cell_type": "code",
   "execution_count": null,
   "metadata": {
    "collapsed": false
   },
   "outputs": [],
   "source": [
    "d2['74743']"
   ]
  },
  {
   "cell_type": "markdown",
   "metadata": {},
   "source": [
    "Notes\n",
    "------\n",
    "Given the huge number of nodes "
   ]
  },
  {
   "cell_type": "code",
   "execution_count": null,
   "metadata": {
    "collapsed": false
   },
   "outputs": [],
   "source": [
    "graph_edges=pd.DataFrame(G.data(\"MATCH (m)-[r]->(n) RETURN m.mid,n.mid\"))\n",
    "edges=list(zip(graph_edges['m.mid'].tolist(),graph_edges['n.mid'].tolist()))"
   ]
  },
  {
   "cell_type": "code",
   "execution_count": null,
   "metadata": {
    "collapsed": false
   },
   "outputs": [],
   "source": [
    "G2=nx.Graph()\n",
    "def nodes_connected(u, v):\n",
    "    return u in G2.neighbors(v)\n",
    "\n",
    "for edge in edges:\n",
    "    node1 = edge[0]\n",
    "    node2 = edge[1]\n",
    "    if node1 and node2 in G2.nodes():\n",
    "        if not nodes_connected(node1, node2):\n",
    "            c = 0.1\n",
    "\n",
    "            G2.add_edge(node1, node2, weight=c)\n",
    "        else:\n",
    "            c += 0.1\n",
    "            G2.add_edge(node1, node2, weight=c)\n",
    "\n",
    "    else:\n",
    "        if node1 not in G2.nodes():\n",
    "            G2.add_node(node1)\n",
    "        if node2 not in G2.nodes():\n",
    "            G2.add_node(node2)\n",
    "        c = 0.1\n",
    "        G2.add_edge(node1, node2, weight=c)"
   ]
  },
  {
   "cell_type": "code",
   "execution_count": null,
   "metadata": {
    "collapsed": false
   },
   "outputs": [],
   "source": [
    "partitions1 = community.best_partition(G2)\n",
    "partitions = [(k, v) for k, v in partitions1.items()]\n",
    "\n",
    "sorted_partitions = sorted(partitions, key=lambda tup: tup[1])\n",
    "communities = groupby(sorted_partitions, key=lambda tup: tup[1])\n",
    "\n",
    "mod = community.modularity(partitions1,G2)\n",
    "\n",
    "# Plot, color nodes using community structure\n",
    "values = [partitions1.get(node) for node in G2.nodes()]\n",
    "nx.draw_spring(G2, cmap=plt.get_cmap('jet'), node_color = values, node_size=30, with_labels=False)\n",
    "plt.show()"
   ]
  },
  {
   "cell_type": "code",
   "execution_count": null,
   "metadata": {
    "collapsed": false
   },
   "outputs": [],
   "source": [
    "comm={}\n",
    "for c, u in communities:\n",
    "    print(c)\n",
    "    u = list(u)\n",
    "    u = [y[0] for y in u]\n",
    "    comm[c] = u\n",
    "    print('Community %s has %s members\\n' % (c, len(u)))\n",
    "    #file.write('----------------------------\\n')\n",
    "\n",
    "    #for uu in u:\n",
    "     #   file.write('%s\\n' % ' '.join(uu.split('_')))\n",
    "\n",
    "    #file.write('-----------------------------\\n')"
   ]
  },
  {
   "cell_type": "code",
   "execution_count": null,
   "metadata": {
    "collapsed": false
   },
   "outputs": [],
   "source": [
    "#invert dictionary\n",
    "peeps={}\n",
    "for key in comm.keys():\n",
    "    people=comm[key]\n",
    "    for p in people:\n",
    "        peeps[p]=key"
   ]
  },
  {
   "cell_type": "code",
   "execution_count": null,
   "metadata": {
    "collapsed": false
   },
   "outputs": [],
   "source": [
    "comm_ethnic={}\n",
    "for key in comm.keys():\n",
    "    l=[]\n",
    "    for p in comm[key]:\n",
    "        eth=d[p]['ethnic']\n",
    "        l.append(eth)\n",
    "    comm_ethnic[key]=l\n",
    "\n",
    "comm_age={}\n",
    "\n",
    "for key in comm.keys():\n",
    "    l=[]\n",
    "    for p in comm[key]:\n",
    "        age=d[p]['age']\n",
    "        l.append(age)\n",
    "    comm_age[key]=(np.mean(l),np.sqrt(np.var(l)))"
   ]
  },
  {
   "cell_type": "code",
   "execution_count": null,
   "metadata": {
    "collapsed": false
   },
   "outputs": [],
   "source": [
    "comm_age_ethnic={}\n",
    "for key in comm.keys():\n",
    "    comm_age_ethnic[key]={}\n",
    "    for p in comm[key]:\n",
    "\n",
    "        typ=d[p]['ethnic']\n",
    "        if typ in comm_age_ethnic[key].keys():\n",
    "            age=d[p]['age']\n",
    "            l.append(age)\n",
    "        else:\n",
    "            age=d[p]['age']\n",
    "            l=[age]\n",
    "        comm_age_ethnic[key][typ]=l\n",
    "    for typ in comm_age_ethnic[key].keys():\n",
    "        comm_age_ethnic[key][typ]=(np.mean(comm_age_ethnic[key][typ]),np.sqrt(np.var(comm_age_ethnic[key][typ])))\n",
    "    comm_age_ethnic[key]['allStats']=comm_age[key]\n",
    "            "
   ]
  },
  {
   "cell_type": "code",
   "execution_count": null,
   "metadata": {
    "collapsed": false
   },
   "outputs": [],
   "source": [
    "comm_age_ethnic_gender={}\n",
    "for key in comm.keys():\n",
    "    comm_age_ethnic_gender[key]={}\n",
    "    for p in comm[key]:\n",
    "\n",
    "        typ=d[p]['ethnic']\n",
    "        g=d[p]['gender']\n",
    "        if g=='F':\n",
    "            if 'F' not in comm_age_ethnic_gender[key].keys():\n",
    "                comm_age_ethnic_gender[key]['F']={}\n",
    "            if typ in comm_age_ethnic_gender[key]['F'].keys():\n",
    "                age=d[p]['age']\n",
    "                l.append(age)\n",
    "            else:\n",
    "                age=d[p]['age']\n",
    "                l=[age]\n",
    "               \n",
    "                \n",
    "            comm_age_ethnic_gender[key]['F'][typ]=l\n",
    "        else:\n",
    "            if 'M' not in comm_age_ethnic_gender[key].keys():\n",
    "                \n",
    "                comm_age_ethnic_gender[key]['M']={}\n",
    "                \n",
    "            \n",
    "            \n",
    "            if typ in comm_age_ethnic_gender[key]['M'].keys():\n",
    "                age=d[p]['age']\n",
    "                l.append(age)\n",
    "            else:\n",
    "                age=d[p]['age']\n",
    "                l=[age]\n",
    "\n",
    "            comm_age_ethnic_gender[key]['M'][typ]=l \n",
    "\n",
    "                   \n",
    "    for gen in comm_age_ethnic_gender[key].keys():\n",
    "        for typ in comm_age_ethnic_gender[key][gen].keys():\n",
    "            l=[ll for ll in comm_age_ethnic_gender[key][gen][typ] if type(ll)==int]\n",
    "            comm_age_ethnic_gender[key][gen][typ]=(np.mean(l),np.sqrt(np.var(l)))\n",
    "        #comm_age_ethnic_gender[key][gen]['allStats']=comm_age[key][gen]\n",
    "          "
   ]
  },
  {
   "cell_type": "code",
   "execution_count": null,
   "metadata": {
    "collapsed": false
   },
   "outputs": [],
   "source": [
    "comm_age_ethnic_gender"
   ]
  },
  {
   "cell_type": "code",
   "execution_count": null,
   "metadata": {
    "collapsed": false
   },
   "outputs": [],
   "source": [
    "comm_avg_pop={}\n",
    "\n",
    "for key in comm.keys():\n",
    "    typ=Counter()\n",
    "    comm_avg_pop[key]={}\n",
    "    for p in comm[key]:\n",
    "        if p in pUK.index:\n",
    "            popularity=pUK.ix[p]['popNorm']\n",
    "            age=d[p]['age']\n",
    "            eth=d[p]['ethnic']\n",
    "            g=d[p]['gender']\n",
    "            sm=pUK.ix[p]['SM']\n",
    "            ld=pUK.ix[p]['LD']\n",
    "            likes=pUK.ix[p]['likes']\n",
    "            ldLen=pUK.ix[p]['LDlen']\n",
    "            smLen=pUK.ix[p]['SMlen']\n",
    "            typ[eth]+=1\n",
    "            if g in comm_avg_pop[key].keys():\n",
    "                comm_avg_pop[key][g]['SM'].append(sm)\n",
    "                comm_avg_pop[key][g]['LD'].append(ld)\n",
    "                comm_avg_pop[key][g]['ldLen'].append(ldLen)\n",
    "                comm_avg_pop[key][g]['smLen'].append(smLen)\n",
    "            else:\n",
    "                comm_avg_pop[key][g]={}\n",
    "                comm_avg_pop[key][g]['SM']=[sm]\n",
    "                comm_avg_pop[key][g]['LD']=[ld]\n",
    "                comm_avg_pop[key][g]['ldLen']=[ldLen]\n",
    "                comm_avg_pop[key][g]['smLen']=[smLen]\n",
    "                    \n",
    "                \n",
    "                \n",
    "            \n",
    "            \n",
    "            \n",
    "            \n",
    "            \n",
    "            \n",
    "    \n",
    "    "
   ]
  },
  {
   "cell_type": "code",
   "execution_count": null,
   "metadata": {
    "collapsed": false
   },
   "outputs": [],
   "source": [
    "comm_avg_pop"
   ]
  },
  {
   "cell_type": "code",
   "execution_count": null,
   "metadata": {
    "collapsed": true
   },
   "outputs": [],
   "source": []
  }
 ],
 "metadata": {
  "kernelspec": {
   "display_name": "Python 3",
   "language": "python",
   "name": "python3"
  },
  "language_info": {
   "codemirror_mode": {
    "name": "ipython",
    "version": 3
   },
   "file_extension": ".py",
   "mimetype": "text/x-python",
   "name": "python",
   "nbconvert_exporter": "python",
   "pygments_lexer": "ipython3",
   "version": "3.5.2"
  }
 },
 "nbformat": 4,
 "nbformat_minor": 0
}
